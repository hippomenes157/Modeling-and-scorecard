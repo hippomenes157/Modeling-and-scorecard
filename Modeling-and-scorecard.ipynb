{
 "cells": [
  {
   "cell_type": "markdown",
   "metadata": {},
   "source": [
    "# 项目目的"
   ]
  },
  {
   "cell_type": "markdown",
   "metadata": {},
   "source": [
    "研究LC贷款的风险特征，并提出建模方案。根据贷款状态将客户划分为违约客户和正常客户，典型的二分类问题。"
   ]
  },
  {
   "cell_type": "markdown",
   "metadata": {
    "ExecuteTime": {
     "end_time": "2020-12-01T10:31:02.946383Z",
     "start_time": "2020-12-01T10:31:02.943363Z"
    }
   },
   "source": [
    "# EDA"
   ]
  },
  {
   "cell_type": "markdown",
   "metadata": {},
   "source": [
    "## 导入数据"
   ]
  },
  {
   "cell_type": "code",
   "execution_count": 1,
   "metadata": {
    "ExecuteTime": {
     "end_time": "2020-12-08T11:59:26.388889Z",
     "start_time": "2020-12-08T11:59:25.643249Z"
    }
   },
   "outputs": [
    {
     "name": "stderr",
     "output_type": "stream",
     "text": [
      "In C:\\Users\\Administrator\\anaconda3\\lib\\site-packages\\matplotlib\\mpl-data\\stylelib\\_classic_test.mplstyle: \n",
      "The text.latex.preview rcparam was deprecated in Matplotlib 3.3 and will be removed two minor releases later.\n",
      "In C:\\Users\\Administrator\\anaconda3\\lib\\site-packages\\matplotlib\\mpl-data\\stylelib\\_classic_test.mplstyle: \n",
      "The mathtext.fallback_to_cm rcparam was deprecated in Matplotlib 3.3 and will be removed two minor releases later.\n",
      "In C:\\Users\\Administrator\\anaconda3\\lib\\site-packages\\matplotlib\\mpl-data\\stylelib\\_classic_test.mplstyle: Support for setting the 'mathtext.fallback_to_cm' rcParam is deprecated since 3.3 and will be removed two minor releases later; use 'mathtext.fallback : 'cm' instead.\n",
      "In C:\\Users\\Administrator\\anaconda3\\lib\\site-packages\\matplotlib\\mpl-data\\stylelib\\_classic_test.mplstyle: \n",
      "The validate_bool_maybe_none function was deprecated in Matplotlib 3.3 and will be removed two minor releases later.\n",
      "In C:\\Users\\Administrator\\anaconda3\\lib\\site-packages\\matplotlib\\mpl-data\\stylelib\\_classic_test.mplstyle: \n",
      "The savefig.jpeg_quality rcparam was deprecated in Matplotlib 3.3 and will be removed two minor releases later.\n",
      "In C:\\Users\\Administrator\\anaconda3\\lib\\site-packages\\matplotlib\\mpl-data\\stylelib\\_classic_test.mplstyle: \n",
      "The keymap.all_axes rcparam was deprecated in Matplotlib 3.3 and will be removed two minor releases later.\n",
      "In C:\\Users\\Administrator\\anaconda3\\lib\\site-packages\\matplotlib\\mpl-data\\stylelib\\_classic_test.mplstyle: \n",
      "The animation.avconv_path rcparam was deprecated in Matplotlib 3.3 and will be removed two minor releases later.\n",
      "In C:\\Users\\Administrator\\anaconda3\\lib\\site-packages\\matplotlib\\mpl-data\\stylelib\\_classic_test.mplstyle: \n",
      "The animation.avconv_args rcparam was deprecated in Matplotlib 3.3 and will be removed two minor releases later.\n"
     ]
    }
   ],
   "source": [
    "import pandas as pd\n",
    "import numpy as np\n",
    "import matplotlib.pyplot as plt\n",
    "plt.style.use('ggplot')  #风格设置\n",
    "import seaborn as sns\n",
    "sns.set_style('whitegrid')\n",
    "%matplotlib inline\n",
    "import warnings\n",
    "warnings.filterwarnings('ignore') \n",
    "plt.rcParams['font.sans-serif'] = ['SimHei']  # 指定默认字体\n",
    "plt.rcParams['axes.unicode_minus'] = False  # 解决保存图像是负号'-'显示为方块的问题"
   ]
  },
  {
   "cell_type": "code",
   "execution_count": 2,
   "metadata": {
    "ExecuteTime": {
     "end_time": "2020-12-08T11:59:36.343861Z",
     "start_time": "2020-12-08T11:59:26.389865Z"
    }
   },
   "outputs": [],
   "source": [
    "# Load data for analysis\n",
    "df = pd.read_csv('./loan.csv', low_memory=False)"
   ]
  },
  {
   "cell_type": "code",
   "execution_count": 3,
   "metadata": {
    "ExecuteTime": {
     "end_time": "2020-12-08T11:59:36.384853Z",
     "start_time": "2020-12-08T11:59:36.344837Z"
    },
    "scrolled": true
   },
   "outputs": [
    {
     "data": {
      "text/html": [
       "<div>\n",
       "<style scoped>\n",
       "    .dataframe tbody tr th:only-of-type {\n",
       "        vertical-align: middle;\n",
       "    }\n",
       "\n",
       "    .dataframe tbody tr th {\n",
       "        vertical-align: top;\n",
       "    }\n",
       "\n",
       "    .dataframe thead th {\n",
       "        text-align: right;\n",
       "    }\n",
       "</style>\n",
       "<table border=\"1\" class=\"dataframe\">\n",
       "  <thead>\n",
       "    <tr style=\"text-align: right;\">\n",
       "      <th></th>\n",
       "      <th>id</th>\n",
       "      <th>member_id</th>\n",
       "      <th>loan_amnt</th>\n",
       "      <th>funded_amnt</th>\n",
       "      <th>funded_amnt_inv</th>\n",
       "      <th>term</th>\n",
       "      <th>int_rate</th>\n",
       "      <th>installment</th>\n",
       "      <th>grade</th>\n",
       "      <th>sub_grade</th>\n",
       "      <th>emp_title</th>\n",
       "      <th>emp_length</th>\n",
       "      <th>home_ownership</th>\n",
       "      <th>annual_inc</th>\n",
       "      <th>verification_status</th>\n",
       "      <th>issue_d</th>\n",
       "      <th>loan_status</th>\n",
       "      <th>pymnt_plan</th>\n",
       "      <th>url</th>\n",
       "      <th>desc</th>\n",
       "      <th>purpose</th>\n",
       "      <th>title</th>\n",
       "      <th>zip_code</th>\n",
       "      <th>addr_state</th>\n",
       "      <th>dti</th>\n",
       "      <th>delinq_2yrs</th>\n",
       "      <th>earliest_cr_line</th>\n",
       "      <th>inq_last_6mths</th>\n",
       "      <th>mths_since_last_delinq</th>\n",
       "      <th>mths_since_last_record</th>\n",
       "      <th>open_acc</th>\n",
       "      <th>pub_rec</th>\n",
       "      <th>revol_bal</th>\n",
       "      <th>revol_util</th>\n",
       "      <th>total_acc</th>\n",
       "      <th>initial_list_status</th>\n",
       "      <th>out_prncp</th>\n",
       "      <th>out_prncp_inv</th>\n",
       "      <th>total_pymnt</th>\n",
       "      <th>total_pymnt_inv</th>\n",
       "      <th>total_rec_prncp</th>\n",
       "      <th>total_rec_int</th>\n",
       "      <th>total_rec_late_fee</th>\n",
       "      <th>recoveries</th>\n",
       "      <th>collection_recovery_fee</th>\n",
       "      <th>last_pymnt_d</th>\n",
       "      <th>last_pymnt_amnt</th>\n",
       "      <th>next_pymnt_d</th>\n",
       "      <th>last_credit_pull_d</th>\n",
       "      <th>collections_12_mths_ex_med</th>\n",
       "      <th>mths_since_last_major_derog</th>\n",
       "      <th>policy_code</th>\n",
       "      <th>application_type</th>\n",
       "      <th>annual_inc_joint</th>\n",
       "      <th>dti_joint</th>\n",
       "      <th>verification_status_joint</th>\n",
       "      <th>acc_now_delinq</th>\n",
       "      <th>tot_coll_amt</th>\n",
       "      <th>tot_cur_bal</th>\n",
       "      <th>open_acc_6m</th>\n",
       "      <th>open_il_6m</th>\n",
       "      <th>open_il_12m</th>\n",
       "      <th>open_il_24m</th>\n",
       "      <th>mths_since_rcnt_il</th>\n",
       "      <th>total_bal_il</th>\n",
       "      <th>il_util</th>\n",
       "      <th>open_rv_12m</th>\n",
       "      <th>open_rv_24m</th>\n",
       "      <th>max_bal_bc</th>\n",
       "      <th>all_util</th>\n",
       "      <th>total_rev_hi_lim</th>\n",
       "      <th>inq_fi</th>\n",
       "      <th>total_cu_tl</th>\n",
       "      <th>inq_last_12m</th>\n",
       "    </tr>\n",
       "  </thead>\n",
       "  <tbody>\n",
       "    <tr>\n",
       "      <th>0</th>\n",
       "      <td>1077501</td>\n",
       "      <td>1296599</td>\n",
       "      <td>5000.0</td>\n",
       "      <td>5000.0</td>\n",
       "      <td>4975.0</td>\n",
       "      <td>36 months</td>\n",
       "      <td>10.65</td>\n",
       "      <td>162.87</td>\n",
       "      <td>B</td>\n",
       "      <td>B2</td>\n",
       "      <td>NaN</td>\n",
       "      <td>10+ years</td>\n",
       "      <td>RENT</td>\n",
       "      <td>24000.0</td>\n",
       "      <td>Verified</td>\n",
       "      <td>Dec-2011</td>\n",
       "      <td>Fully Paid</td>\n",
       "      <td>n</td>\n",
       "      <td>https://www.lendingclub.com/browse/loanDetail.action?loan_id=1077501</td>\n",
       "      <td>Borrower added on 12/22/11 &gt; I need to upgrade my business technologies.&lt;br&gt;</td>\n",
       "      <td>credit_card</td>\n",
       "      <td>Computer</td>\n",
       "      <td>860xx</td>\n",
       "      <td>AZ</td>\n",
       "      <td>27.65</td>\n",
       "      <td>0.0</td>\n",
       "      <td>Jan-1985</td>\n",
       "      <td>1.0</td>\n",
       "      <td>NaN</td>\n",
       "      <td>NaN</td>\n",
       "      <td>3.0</td>\n",
       "      <td>0.0</td>\n",
       "      <td>13648.0</td>\n",
       "      <td>83.7</td>\n",
       "      <td>9.0</td>\n",
       "      <td>f</td>\n",
       "      <td>0.0</td>\n",
       "      <td>0.0</td>\n",
       "      <td>5861.071414</td>\n",
       "      <td>5831.78</td>\n",
       "      <td>5000.00</td>\n",
       "      <td>861.07</td>\n",
       "      <td>0.00</td>\n",
       "      <td>0.00</td>\n",
       "      <td>0.00</td>\n",
       "      <td>Jan-2015</td>\n",
       "      <td>171.62</td>\n",
       "      <td>NaN</td>\n",
       "      <td>Jan-2016</td>\n",
       "      <td>0.0</td>\n",
       "      <td>NaN</td>\n",
       "      <td>1.0</td>\n",
       "      <td>INDIVIDUAL</td>\n",
       "      <td>NaN</td>\n",
       "      <td>NaN</td>\n",
       "      <td>NaN</td>\n",
       "      <td>0.0</td>\n",
       "      <td>NaN</td>\n",
       "      <td>NaN</td>\n",
       "      <td>NaN</td>\n",
       "      <td>NaN</td>\n",
       "      <td>NaN</td>\n",
       "      <td>NaN</td>\n",
       "      <td>NaN</td>\n",
       "      <td>NaN</td>\n",
       "      <td>NaN</td>\n",
       "      <td>NaN</td>\n",
       "      <td>NaN</td>\n",
       "      <td>NaN</td>\n",
       "      <td>NaN</td>\n",
       "      <td>NaN</td>\n",
       "      <td>NaN</td>\n",
       "      <td>NaN</td>\n",
       "      <td>NaN</td>\n",
       "    </tr>\n",
       "    <tr>\n",
       "      <th>1</th>\n",
       "      <td>1077430</td>\n",
       "      <td>1314167</td>\n",
       "      <td>2500.0</td>\n",
       "      <td>2500.0</td>\n",
       "      <td>2500.0</td>\n",
       "      <td>60 months</td>\n",
       "      <td>15.27</td>\n",
       "      <td>59.83</td>\n",
       "      <td>C</td>\n",
       "      <td>C4</td>\n",
       "      <td>Ryder</td>\n",
       "      <td>&lt; 1 year</td>\n",
       "      <td>RENT</td>\n",
       "      <td>30000.0</td>\n",
       "      <td>Source Verified</td>\n",
       "      <td>Dec-2011</td>\n",
       "      <td>Charged Off</td>\n",
       "      <td>n</td>\n",
       "      <td>https://www.lendingclub.com/browse/loanDetail.action?loan_id=1077430</td>\n",
       "      <td>Borrower added on 12/22/11 &gt; I plan to use this money to finance the motorcycle i am looking a...</td>\n",
       "      <td>car</td>\n",
       "      <td>bike</td>\n",
       "      <td>309xx</td>\n",
       "      <td>GA</td>\n",
       "      <td>1.00</td>\n",
       "      <td>0.0</td>\n",
       "      <td>Apr-1999</td>\n",
       "      <td>5.0</td>\n",
       "      <td>NaN</td>\n",
       "      <td>NaN</td>\n",
       "      <td>3.0</td>\n",
       "      <td>0.0</td>\n",
       "      <td>1687.0</td>\n",
       "      <td>9.4</td>\n",
       "      <td>4.0</td>\n",
       "      <td>f</td>\n",
       "      <td>0.0</td>\n",
       "      <td>0.0</td>\n",
       "      <td>1008.710000</td>\n",
       "      <td>1008.71</td>\n",
       "      <td>456.46</td>\n",
       "      <td>435.17</td>\n",
       "      <td>0.00</td>\n",
       "      <td>117.08</td>\n",
       "      <td>1.11</td>\n",
       "      <td>Apr-2013</td>\n",
       "      <td>119.66</td>\n",
       "      <td>NaN</td>\n",
       "      <td>Sep-2013</td>\n",
       "      <td>0.0</td>\n",
       "      <td>NaN</td>\n",
       "      <td>1.0</td>\n",
       "      <td>INDIVIDUAL</td>\n",
       "      <td>NaN</td>\n",
       "      <td>NaN</td>\n",
       "      <td>NaN</td>\n",
       "      <td>0.0</td>\n",
       "      <td>NaN</td>\n",
       "      <td>NaN</td>\n",
       "      <td>NaN</td>\n",
       "      <td>NaN</td>\n",
       "      <td>NaN</td>\n",
       "      <td>NaN</td>\n",
       "      <td>NaN</td>\n",
       "      <td>NaN</td>\n",
       "      <td>NaN</td>\n",
       "      <td>NaN</td>\n",
       "      <td>NaN</td>\n",
       "      <td>NaN</td>\n",
       "      <td>NaN</td>\n",
       "      <td>NaN</td>\n",
       "      <td>NaN</td>\n",
       "      <td>NaN</td>\n",
       "      <td>NaN</td>\n",
       "    </tr>\n",
       "    <tr>\n",
       "      <th>2</th>\n",
       "      <td>1077175</td>\n",
       "      <td>1313524</td>\n",
       "      <td>2400.0</td>\n",
       "      <td>2400.0</td>\n",
       "      <td>2400.0</td>\n",
       "      <td>36 months</td>\n",
       "      <td>15.96</td>\n",
       "      <td>84.33</td>\n",
       "      <td>C</td>\n",
       "      <td>C5</td>\n",
       "      <td>NaN</td>\n",
       "      <td>10+ years</td>\n",
       "      <td>RENT</td>\n",
       "      <td>12252.0</td>\n",
       "      <td>Not Verified</td>\n",
       "      <td>Dec-2011</td>\n",
       "      <td>Fully Paid</td>\n",
       "      <td>n</td>\n",
       "      <td>https://www.lendingclub.com/browse/loanDetail.action?loan_id=1077175</td>\n",
       "      <td>NaN</td>\n",
       "      <td>small_business</td>\n",
       "      <td>real estate business</td>\n",
       "      <td>606xx</td>\n",
       "      <td>IL</td>\n",
       "      <td>8.72</td>\n",
       "      <td>0.0</td>\n",
       "      <td>Nov-2001</td>\n",
       "      <td>2.0</td>\n",
       "      <td>NaN</td>\n",
       "      <td>NaN</td>\n",
       "      <td>2.0</td>\n",
       "      <td>0.0</td>\n",
       "      <td>2956.0</td>\n",
       "      <td>98.5</td>\n",
       "      <td>10.0</td>\n",
       "      <td>f</td>\n",
       "      <td>0.0</td>\n",
       "      <td>0.0</td>\n",
       "      <td>3003.653644</td>\n",
       "      <td>3003.65</td>\n",
       "      <td>2400.00</td>\n",
       "      <td>603.65</td>\n",
       "      <td>0.00</td>\n",
       "      <td>0.00</td>\n",
       "      <td>0.00</td>\n",
       "      <td>Jun-2014</td>\n",
       "      <td>649.91</td>\n",
       "      <td>NaN</td>\n",
       "      <td>Jan-2016</td>\n",
       "      <td>0.0</td>\n",
       "      <td>NaN</td>\n",
       "      <td>1.0</td>\n",
       "      <td>INDIVIDUAL</td>\n",
       "      <td>NaN</td>\n",
       "      <td>NaN</td>\n",
       "      <td>NaN</td>\n",
       "      <td>0.0</td>\n",
       "      <td>NaN</td>\n",
       "      <td>NaN</td>\n",
       "      <td>NaN</td>\n",
       "      <td>NaN</td>\n",
       "      <td>NaN</td>\n",
       "      <td>NaN</td>\n",
       "      <td>NaN</td>\n",
       "      <td>NaN</td>\n",
       "      <td>NaN</td>\n",
       "      <td>NaN</td>\n",
       "      <td>NaN</td>\n",
       "      <td>NaN</td>\n",
       "      <td>NaN</td>\n",
       "      <td>NaN</td>\n",
       "      <td>NaN</td>\n",
       "      <td>NaN</td>\n",
       "      <td>NaN</td>\n",
       "    </tr>\n",
       "    <tr>\n",
       "      <th>3</th>\n",
       "      <td>1076863</td>\n",
       "      <td>1277178</td>\n",
       "      <td>10000.0</td>\n",
       "      <td>10000.0</td>\n",
       "      <td>10000.0</td>\n",
       "      <td>36 months</td>\n",
       "      <td>13.49</td>\n",
       "      <td>339.31</td>\n",
       "      <td>C</td>\n",
       "      <td>C1</td>\n",
       "      <td>AIR RESOURCES BOARD</td>\n",
       "      <td>10+ years</td>\n",
       "      <td>RENT</td>\n",
       "      <td>49200.0</td>\n",
       "      <td>Source Verified</td>\n",
       "      <td>Dec-2011</td>\n",
       "      <td>Fully Paid</td>\n",
       "      <td>n</td>\n",
       "      <td>https://www.lendingclub.com/browse/loanDetail.action?loan_id=1076863</td>\n",
       "      <td>Borrower added on 12/21/11 &gt; to pay for property tax (borrow from friend, need to pay back) &amp; ...</td>\n",
       "      <td>other</td>\n",
       "      <td>personel</td>\n",
       "      <td>917xx</td>\n",
       "      <td>CA</td>\n",
       "      <td>20.00</td>\n",
       "      <td>0.0</td>\n",
       "      <td>Feb-1996</td>\n",
       "      <td>1.0</td>\n",
       "      <td>35.0</td>\n",
       "      <td>NaN</td>\n",
       "      <td>10.0</td>\n",
       "      <td>0.0</td>\n",
       "      <td>5598.0</td>\n",
       "      <td>21.0</td>\n",
       "      <td>37.0</td>\n",
       "      <td>f</td>\n",
       "      <td>0.0</td>\n",
       "      <td>0.0</td>\n",
       "      <td>12226.302212</td>\n",
       "      <td>12226.30</td>\n",
       "      <td>10000.00</td>\n",
       "      <td>2209.33</td>\n",
       "      <td>16.97</td>\n",
       "      <td>0.00</td>\n",
       "      <td>0.00</td>\n",
       "      <td>Jan-2015</td>\n",
       "      <td>357.48</td>\n",
       "      <td>NaN</td>\n",
       "      <td>Jan-2015</td>\n",
       "      <td>0.0</td>\n",
       "      <td>NaN</td>\n",
       "      <td>1.0</td>\n",
       "      <td>INDIVIDUAL</td>\n",
       "      <td>NaN</td>\n",
       "      <td>NaN</td>\n",
       "      <td>NaN</td>\n",
       "      <td>0.0</td>\n",
       "      <td>NaN</td>\n",
       "      <td>NaN</td>\n",
       "      <td>NaN</td>\n",
       "      <td>NaN</td>\n",
       "      <td>NaN</td>\n",
       "      <td>NaN</td>\n",
       "      <td>NaN</td>\n",
       "      <td>NaN</td>\n",
       "      <td>NaN</td>\n",
       "      <td>NaN</td>\n",
       "      <td>NaN</td>\n",
       "      <td>NaN</td>\n",
       "      <td>NaN</td>\n",
       "      <td>NaN</td>\n",
       "      <td>NaN</td>\n",
       "      <td>NaN</td>\n",
       "      <td>NaN</td>\n",
       "    </tr>\n",
       "    <tr>\n",
       "      <th>4</th>\n",
       "      <td>1075358</td>\n",
       "      <td>1311748</td>\n",
       "      <td>3000.0</td>\n",
       "      <td>3000.0</td>\n",
       "      <td>3000.0</td>\n",
       "      <td>60 months</td>\n",
       "      <td>12.69</td>\n",
       "      <td>67.79</td>\n",
       "      <td>B</td>\n",
       "      <td>B5</td>\n",
       "      <td>University Medical Group</td>\n",
       "      <td>1 year</td>\n",
       "      <td>RENT</td>\n",
       "      <td>80000.0</td>\n",
       "      <td>Source Verified</td>\n",
       "      <td>Dec-2011</td>\n",
       "      <td>Current</td>\n",
       "      <td>n</td>\n",
       "      <td>https://www.lendingclub.com/browse/loanDetail.action?loan_id=1075358</td>\n",
       "      <td>Borrower added on 12/21/11 &gt; I plan on combining three large interest bills together and freei...</td>\n",
       "      <td>other</td>\n",
       "      <td>Personal</td>\n",
       "      <td>972xx</td>\n",
       "      <td>OR</td>\n",
       "      <td>17.94</td>\n",
       "      <td>0.0</td>\n",
       "      <td>Jan-1996</td>\n",
       "      <td>0.0</td>\n",
       "      <td>38.0</td>\n",
       "      <td>NaN</td>\n",
       "      <td>15.0</td>\n",
       "      <td>0.0</td>\n",
       "      <td>27783.0</td>\n",
       "      <td>53.9</td>\n",
       "      <td>38.0</td>\n",
       "      <td>f</td>\n",
       "      <td>766.9</td>\n",
       "      <td>766.9</td>\n",
       "      <td>3242.170000</td>\n",
       "      <td>3242.17</td>\n",
       "      <td>2233.10</td>\n",
       "      <td>1009.07</td>\n",
       "      <td>0.00</td>\n",
       "      <td>0.00</td>\n",
       "      <td>0.00</td>\n",
       "      <td>Jan-2016</td>\n",
       "      <td>67.79</td>\n",
       "      <td>Feb-2016</td>\n",
       "      <td>Jan-2016</td>\n",
       "      <td>0.0</td>\n",
       "      <td>NaN</td>\n",
       "      <td>1.0</td>\n",
       "      <td>INDIVIDUAL</td>\n",
       "      <td>NaN</td>\n",
       "      <td>NaN</td>\n",
       "      <td>NaN</td>\n",
       "      <td>0.0</td>\n",
       "      <td>NaN</td>\n",
       "      <td>NaN</td>\n",
       "      <td>NaN</td>\n",
       "      <td>NaN</td>\n",
       "      <td>NaN</td>\n",
       "      <td>NaN</td>\n",
       "      <td>NaN</td>\n",
       "      <td>NaN</td>\n",
       "      <td>NaN</td>\n",
       "      <td>NaN</td>\n",
       "      <td>NaN</td>\n",
       "      <td>NaN</td>\n",
       "      <td>NaN</td>\n",
       "      <td>NaN</td>\n",
       "      <td>NaN</td>\n",
       "      <td>NaN</td>\n",
       "      <td>NaN</td>\n",
       "    </tr>\n",
       "  </tbody>\n",
       "</table>\n",
       "</div>"
      ],
      "text/plain": [
       "        id  member_id  loan_amnt  funded_amnt  funded_amnt_inv        term  \\\n",
       "0  1077501    1296599     5000.0       5000.0           4975.0   36 months   \n",
       "1  1077430    1314167     2500.0       2500.0           2500.0   60 months   \n",
       "2  1077175    1313524     2400.0       2400.0           2400.0   36 months   \n",
       "3  1076863    1277178    10000.0      10000.0          10000.0   36 months   \n",
       "4  1075358    1311748     3000.0       3000.0           3000.0   60 months   \n",
       "\n",
       "   int_rate  installment grade sub_grade                 emp_title emp_length  \\\n",
       "0     10.65       162.87     B        B2                       NaN  10+ years   \n",
       "1     15.27        59.83     C        C4                     Ryder   < 1 year   \n",
       "2     15.96        84.33     C        C5                       NaN  10+ years   \n",
       "3     13.49       339.31     C        C1       AIR RESOURCES BOARD  10+ years   \n",
       "4     12.69        67.79     B        B5  University Medical Group     1 year   \n",
       "\n",
       "  home_ownership  annual_inc verification_status   issue_d  loan_status  \\\n",
       "0           RENT     24000.0            Verified  Dec-2011   Fully Paid   \n",
       "1           RENT     30000.0     Source Verified  Dec-2011  Charged Off   \n",
       "2           RENT     12252.0        Not Verified  Dec-2011   Fully Paid   \n",
       "3           RENT     49200.0     Source Verified  Dec-2011   Fully Paid   \n",
       "4           RENT     80000.0     Source Verified  Dec-2011      Current   \n",
       "\n",
       "  pymnt_plan  \\\n",
       "0          n   \n",
       "1          n   \n",
       "2          n   \n",
       "3          n   \n",
       "4          n   \n",
       "\n",
       "                                                                    url  \\\n",
       "0  https://www.lendingclub.com/browse/loanDetail.action?loan_id=1077501   \n",
       "1  https://www.lendingclub.com/browse/loanDetail.action?loan_id=1077430   \n",
       "2  https://www.lendingclub.com/browse/loanDetail.action?loan_id=1077175   \n",
       "3  https://www.lendingclub.com/browse/loanDetail.action?loan_id=1076863   \n",
       "4  https://www.lendingclub.com/browse/loanDetail.action?loan_id=1075358   \n",
       "\n",
       "                                                                                                  desc  \\\n",
       "0                         Borrower added on 12/22/11 > I need to upgrade my business technologies.<br>   \n",
       "1    Borrower added on 12/22/11 > I plan to use this money to finance the motorcycle i am looking a...   \n",
       "2                                                                                                  NaN   \n",
       "3    Borrower added on 12/21/11 > to pay for property tax (borrow from friend, need to pay back) & ...   \n",
       "4    Borrower added on 12/21/11 > I plan on combining three large interest bills together and freei...   \n",
       "\n",
       "          purpose                 title zip_code addr_state    dti  \\\n",
       "0     credit_card              Computer    860xx         AZ  27.65   \n",
       "1             car                  bike    309xx         GA   1.00   \n",
       "2  small_business  real estate business    606xx         IL   8.72   \n",
       "3           other              personel    917xx         CA  20.00   \n",
       "4           other              Personal    972xx         OR  17.94   \n",
       "\n",
       "   delinq_2yrs earliest_cr_line  inq_last_6mths  mths_since_last_delinq  \\\n",
       "0          0.0         Jan-1985             1.0                     NaN   \n",
       "1          0.0         Apr-1999             5.0                     NaN   \n",
       "2          0.0         Nov-2001             2.0                     NaN   \n",
       "3          0.0         Feb-1996             1.0                    35.0   \n",
       "4          0.0         Jan-1996             0.0                    38.0   \n",
       "\n",
       "   mths_since_last_record  open_acc  pub_rec  revol_bal  revol_util  \\\n",
       "0                     NaN       3.0      0.0    13648.0        83.7   \n",
       "1                     NaN       3.0      0.0     1687.0         9.4   \n",
       "2                     NaN       2.0      0.0     2956.0        98.5   \n",
       "3                     NaN      10.0      0.0     5598.0        21.0   \n",
       "4                     NaN      15.0      0.0    27783.0        53.9   \n",
       "\n",
       "   total_acc initial_list_status  out_prncp  out_prncp_inv   total_pymnt  \\\n",
       "0        9.0                   f        0.0            0.0   5861.071414   \n",
       "1        4.0                   f        0.0            0.0   1008.710000   \n",
       "2       10.0                   f        0.0            0.0   3003.653644   \n",
       "3       37.0                   f        0.0            0.0  12226.302212   \n",
       "4       38.0                   f      766.9          766.9   3242.170000   \n",
       "\n",
       "   total_pymnt_inv  total_rec_prncp  total_rec_int  total_rec_late_fee  \\\n",
       "0          5831.78          5000.00         861.07                0.00   \n",
       "1          1008.71           456.46         435.17                0.00   \n",
       "2          3003.65          2400.00         603.65                0.00   \n",
       "3         12226.30         10000.00        2209.33               16.97   \n",
       "4          3242.17          2233.10        1009.07                0.00   \n",
       "\n",
       "   recoveries  collection_recovery_fee last_pymnt_d  last_pymnt_amnt  \\\n",
       "0        0.00                     0.00     Jan-2015           171.62   \n",
       "1      117.08                     1.11     Apr-2013           119.66   \n",
       "2        0.00                     0.00     Jun-2014           649.91   \n",
       "3        0.00                     0.00     Jan-2015           357.48   \n",
       "4        0.00                     0.00     Jan-2016            67.79   \n",
       "\n",
       "  next_pymnt_d last_credit_pull_d  collections_12_mths_ex_med  \\\n",
       "0          NaN           Jan-2016                         0.0   \n",
       "1          NaN           Sep-2013                         0.0   \n",
       "2          NaN           Jan-2016                         0.0   \n",
       "3          NaN           Jan-2015                         0.0   \n",
       "4     Feb-2016           Jan-2016                         0.0   \n",
       "\n",
       "   mths_since_last_major_derog  policy_code application_type  \\\n",
       "0                          NaN          1.0       INDIVIDUAL   \n",
       "1                          NaN          1.0       INDIVIDUAL   \n",
       "2                          NaN          1.0       INDIVIDUAL   \n",
       "3                          NaN          1.0       INDIVIDUAL   \n",
       "4                          NaN          1.0       INDIVIDUAL   \n",
       "\n",
       "   annual_inc_joint  dti_joint verification_status_joint  acc_now_delinq  \\\n",
       "0               NaN        NaN                       NaN             0.0   \n",
       "1               NaN        NaN                       NaN             0.0   \n",
       "2               NaN        NaN                       NaN             0.0   \n",
       "3               NaN        NaN                       NaN             0.0   \n",
       "4               NaN        NaN                       NaN             0.0   \n",
       "\n",
       "   tot_coll_amt  tot_cur_bal  open_acc_6m  open_il_6m  open_il_12m  \\\n",
       "0           NaN          NaN          NaN         NaN          NaN   \n",
       "1           NaN          NaN          NaN         NaN          NaN   \n",
       "2           NaN          NaN          NaN         NaN          NaN   \n",
       "3           NaN          NaN          NaN         NaN          NaN   \n",
       "4           NaN          NaN          NaN         NaN          NaN   \n",
       "\n",
       "   open_il_24m  mths_since_rcnt_il  total_bal_il  il_util  open_rv_12m  \\\n",
       "0          NaN                 NaN           NaN      NaN          NaN   \n",
       "1          NaN                 NaN           NaN      NaN          NaN   \n",
       "2          NaN                 NaN           NaN      NaN          NaN   \n",
       "3          NaN                 NaN           NaN      NaN          NaN   \n",
       "4          NaN                 NaN           NaN      NaN          NaN   \n",
       "\n",
       "   open_rv_24m  max_bal_bc  all_util  total_rev_hi_lim  inq_fi  total_cu_tl  \\\n",
       "0          NaN         NaN       NaN               NaN     NaN          NaN   \n",
       "1          NaN         NaN       NaN               NaN     NaN          NaN   \n",
       "2          NaN         NaN       NaN               NaN     NaN          NaN   \n",
       "3          NaN         NaN       NaN               NaN     NaN          NaN   \n",
       "4          NaN         NaN       NaN               NaN     NaN          NaN   \n",
       "\n",
       "   inq_last_12m  \n",
       "0           NaN  \n",
       "1           NaN  \n",
       "2           NaN  \n",
       "3           NaN  \n",
       "4           NaN  "
      ]
     },
     "execution_count": 3,
     "metadata": {},
     "output_type": "execute_result"
    }
   ],
   "source": [
    "#显示所有列\n",
    "pd.set_option('display.max_columns', None)\n",
    "#显示所有行\n",
    "pd.set_option('display.max_rows', None)\n",
    "#设置value的显示长度为100，默认为50\n",
    "pd.set_option('max_colwidth',100)\n",
    "\n",
    "df.head(5)"
   ]
  },
  {
   "cell_type": "markdown",
   "metadata": {},
   "source": [
    "## 数据总览"
   ]
  },
  {
   "cell_type": "code",
   "execution_count": 4,
   "metadata": {
    "ExecuteTime": {
     "end_time": "2020-12-08T11:59:37.057628Z",
     "start_time": "2020-12-08T11:59:36.385830Z"
    },
    "scrolled": true
   },
   "outputs": [
    {
     "name": "stdout",
     "output_type": "stream",
     "text": [
      "<class 'pandas.core.frame.DataFrame'>\n",
      "RangeIndex: 887379 entries, 0 to 887378\n",
      "Data columns (total 74 columns):\n",
      " #   Column                       Non-Null Count   Dtype  \n",
      "---  ------                       --------------   -----  \n",
      " 0   id                           887379 non-null  int64  \n",
      " 1   member_id                    887379 non-null  int64  \n",
      " 2   loan_amnt                    887379 non-null  float64\n",
      " 3   funded_amnt                  887379 non-null  float64\n",
      " 4   funded_amnt_inv              887379 non-null  float64\n",
      " 5   term                         887379 non-null  object \n",
      " 6   int_rate                     887379 non-null  float64\n",
      " 7   installment                  887379 non-null  float64\n",
      " 8   grade                        887379 non-null  object \n",
      " 9   sub_grade                    887379 non-null  object \n",
      " 10  emp_title                    835917 non-null  object \n",
      " 11  emp_length                   842554 non-null  object \n",
      " 12  home_ownership               887379 non-null  object \n",
      " 13  annual_inc                   887375 non-null  float64\n",
      " 14  verification_status          887379 non-null  object \n",
      " 15  issue_d                      887379 non-null  object \n",
      " 16  loan_status                  887379 non-null  object \n",
      " 17  pymnt_plan                   887379 non-null  object \n",
      " 18  url                          887379 non-null  object \n",
      " 19  desc                         126028 non-null  object \n",
      " 20  purpose                      887379 non-null  object \n",
      " 21  title                        887227 non-null  object \n",
      " 22  zip_code                     887379 non-null  object \n",
      " 23  addr_state                   887379 non-null  object \n",
      " 24  dti                          887379 non-null  float64\n",
      " 25  delinq_2yrs                  887350 non-null  float64\n",
      " 26  earliest_cr_line             887350 non-null  object \n",
      " 27  inq_last_6mths               887350 non-null  float64\n",
      " 28  mths_since_last_delinq       433067 non-null  float64\n",
      " 29  mths_since_last_record       137053 non-null  float64\n",
      " 30  open_acc                     887350 non-null  float64\n",
      " 31  pub_rec                      887350 non-null  float64\n",
      " 32  revol_bal                    887379 non-null  float64\n",
      " 33  revol_util                   886877 non-null  float64\n",
      " 34  total_acc                    887350 non-null  float64\n",
      " 35  initial_list_status          887379 non-null  object \n",
      " 36  out_prncp                    887379 non-null  float64\n",
      " 37  out_prncp_inv                887379 non-null  float64\n",
      " 38  total_pymnt                  887379 non-null  float64\n",
      " 39  total_pymnt_inv              887379 non-null  float64\n",
      " 40  total_rec_prncp              887379 non-null  float64\n",
      " 41  total_rec_int                887379 non-null  float64\n",
      " 42  total_rec_late_fee           887379 non-null  float64\n",
      " 43  recoveries                   887379 non-null  float64\n",
      " 44  collection_recovery_fee      887379 non-null  float64\n",
      " 45  last_pymnt_d                 869720 non-null  object \n",
      " 46  last_pymnt_amnt              887379 non-null  float64\n",
      " 47  next_pymnt_d                 634408 non-null  object \n",
      " 48  last_credit_pull_d           887326 non-null  object \n",
      " 49  collections_12_mths_ex_med   887234 non-null  float64\n",
      " 50  mths_since_last_major_derog  221703 non-null  float64\n",
      " 51  policy_code                  887379 non-null  float64\n",
      " 52  application_type             887379 non-null  object \n",
      " 53  annual_inc_joint             511 non-null     float64\n",
      " 54  dti_joint                    509 non-null     float64\n",
      " 55  verification_status_joint    511 non-null     object \n",
      " 56  acc_now_delinq               887350 non-null  float64\n",
      " 57  tot_coll_amt                 817103 non-null  float64\n",
      " 58  tot_cur_bal                  817103 non-null  float64\n",
      " 59  open_acc_6m                  21372 non-null   float64\n",
      " 60  open_il_6m                   21372 non-null   float64\n",
      " 61  open_il_12m                  21372 non-null   float64\n",
      " 62  open_il_24m                  21372 non-null   float64\n",
      " 63  mths_since_rcnt_il           20810 non-null   float64\n",
      " 64  total_bal_il                 21372 non-null   float64\n",
      " 65  il_util                      18617 non-null   float64\n",
      " 66  open_rv_12m                  21372 non-null   float64\n",
      " 67  open_rv_24m                  21372 non-null   float64\n",
      " 68  max_bal_bc                   21372 non-null   float64\n",
      " 69  all_util                     21372 non-null   float64\n",
      " 70  total_rev_hi_lim             817103 non-null  float64\n",
      " 71  inq_fi                       21372 non-null   float64\n",
      " 72  total_cu_tl                  21372 non-null   float64\n",
      " 73  inq_last_12m                 21372 non-null   float64\n",
      "dtypes: float64(49), int64(2), object(23)\n",
      "memory usage: 501.0+ MB\n"
     ]
    }
   ],
   "source": [
    "df.info()"
   ]
  },
  {
   "cell_type": "code",
   "execution_count": 5,
   "metadata": {
    "ExecuteTime": {
     "end_time": "2020-12-08T11:59:38.929374Z",
     "start_time": "2020-12-08T11:59:37.058604Z"
    },
    "scrolled": true
   },
   "outputs": [
    {
     "data": {
      "text/plain": [
       "id                             887379\n",
       "member_id                      887379\n",
       "loan_amnt                        1372\n",
       "funded_amnt                      1372\n",
       "funded_amnt_inv                  9856\n",
       "term                                2\n",
       "int_rate                          542\n",
       "installment                     68711\n",
       "grade                               7\n",
       "sub_grade                          35\n",
       "emp_title                      299271\n",
       "emp_length                         11\n",
       "home_ownership                      6\n",
       "annual_inc                      49384\n",
       "verification_status                 3\n",
       "issue_d                           103\n",
       "loan_status                        10\n",
       "pymnt_plan                          2\n",
       "url                            887379\n",
       "desc                           124469\n",
       "purpose                            14\n",
       "title                           63144\n",
       "zip_code                          935\n",
       "addr_state                         51\n",
       "dti                              4086\n",
       "delinq_2yrs                        29\n",
       "earliest_cr_line                  697\n",
       "inq_last_6mths                     28\n",
       "mths_since_last_delinq            155\n",
       "mths_since_last_record            123\n",
       "open_acc                           77\n",
       "pub_rec                            32\n",
       "revol_bal                       73740\n",
       "revol_util                       1356\n",
       "total_acc                         135\n",
       "initial_list_status                 2\n",
       "out_prncp                      248332\n",
       "out_prncp_inv                  266244\n",
       "total_pymnt                    506726\n",
       "total_pymnt_inv                506616\n",
       "total_rec_prncp                260227\n",
       "total_rec_int                  324635\n",
       "total_rec_late_fee               6181\n",
       "recoveries                      23055\n",
       "collection_recovery_fee         20708\n",
       "last_pymnt_d                       98\n",
       "last_pymnt_amnt                232451\n",
       "next_pymnt_d                      100\n",
       "last_credit_pull_d                103\n",
       "collections_12_mths_ex_med         12\n",
       "mths_since_last_major_derog       168\n",
       "policy_code                         1\n",
       "application_type                    2\n",
       "annual_inc_joint                  308\n",
       "dti_joint                         449\n",
       "verification_status_joint           3\n",
       "acc_now_delinq                      8\n",
       "tot_coll_amt                    10325\n",
       "tot_cur_bal                    327342\n",
       "open_acc_6m                        13\n",
       "open_il_6m                         35\n",
       "open_il_12m                        12\n",
       "open_il_24m                        17\n",
       "mths_since_rcnt_il                201\n",
       "total_bal_il                    17030\n",
       "il_util                          1272\n",
       "open_rv_12m                        18\n",
       "open_rv_24m                        28\n",
       "max_bal_bc                      10707\n",
       "all_util                         1128\n",
       "total_rev_hi_lim                21251\n",
       "inq_fi                             18\n",
       "total_cu_tl                        33\n",
       "inq_last_12m                       29\n",
       "dtype: int64"
      ]
     },
     "execution_count": 5,
     "metadata": {},
     "output_type": "execute_result"
    }
   ],
   "source": [
    "df.nunique()"
   ]
  },
  {
   "cell_type": "markdown",
   "metadata": {},
   "source": [
    "## 目标特征"
   ]
  },
  {
   "cell_type": "code",
   "execution_count": 6,
   "metadata": {
    "ExecuteTime": {
     "end_time": "2020-12-08T11:59:38.979150Z",
     "start_time": "2020-12-08T11:59:38.930350Z"
    }
   },
   "outputs": [
    {
     "data": {
      "text/plain": [
       "Current                                                601779\n",
       "Fully Paid                                             207723\n",
       "Charged Off                                             45248\n",
       "Late (31-120 days)                                      11591\n",
       "Issued                                                   8460\n",
       "In Grace Period                                          6253\n",
       "Late (16-30 days)                                        2357\n",
       "Does not meet the credit policy. Status:Fully Paid       1988\n",
       "Default                                                  1219\n",
       "Does not meet the credit policy. Status:Charged Off       761\n",
       "Name: loan_status, dtype: int64"
      ]
     },
     "execution_count": 6,
     "metadata": {},
     "output_type": "execute_result"
    }
   ],
   "source": [
    "df.loan_status.value_counts()"
   ]
  },
  {
   "cell_type": "markdown",
   "metadata": {},
   "source": [
    "|  **贷款状态**   | **语义**  |**Bad**|**Late**|**Good**|**Cur**|\n",
    "|  :-----  | :-----  | :-----  | :-----  | :-----  | :-----  |\n",
    "| Current  | 贷中 | - | - | - | Y |\n",
    "| Fully Paid  | 全额还款 |- |- |Y |- |\n",
    "| **Default**  | 违约 | Y | - | - | - |\n",
    "| **Charged Off**  | 坏账 |Y |- |- |- |\n",
    "| Issued  | 发布 |- |- |- |Y |\n",
    "| In Grace Period  | 宽限期（逾期15天之内） | - | Y | - | - |\n",
    "| Late (16-30 days)  | 逾期16-30天 |- |Y |- |- |\n",
    "| Late (31-120 days)  | 逾期31-120天 | - | Y | - | - |\n",
    "| Does not meet the credit policy. Status:Fully Paid  | 全额还款（不符合信用） |- |- |Y |- |\n",
    "| Does not meet the credit policy. Status:Charged Off  | 坏账（不符合信用） |Y |- |- |- |"
   ]
  },
  {
   "cell_type": "code",
   "execution_count": 7,
   "metadata": {
    "ExecuteTime": {
     "end_time": "2020-12-08T11:59:38.984030Z",
     "start_time": "2020-12-08T11:59:38.980126Z"
    }
   },
   "outputs": [],
   "source": [
    "#封装一个替换函数\n",
    "def coding(col, codeDict):\n",
    "    colCoded = pd.Series(col, copy=True)#创建一个和loan_status一样的 Series\n",
    "    for key, value in codeDict.items():#返回可遍历的(键, 值) 元组数组\n",
    "        colCoded.replace(key, value, inplace=True)#替换原有数据\n",
    "    return colCoded"
   ]
  },
  {
   "cell_type": "code",
   "execution_count": 8,
   "metadata": {
    "ExecuteTime": {
     "end_time": "2020-12-08T11:59:39.271973Z",
     "start_time": "2020-12-08T11:59:38.985006Z"
    }
   },
   "outputs": [],
   "source": [
    "##把贷款状态LoanStatus编码为违约=1, 正常=0:\n",
    "dict1={'Current':0,'Issued':0,'Fully Paid':0,'Does not meet the credit policy. Status:Fully Paid':0,'Charged Off':1,'Late (31-120 days)':1,'Late (16-30 days)':1,'In Grace Period':1,\"Default\":1,'Does not meet the credit policy. Status:Charged Off':1}\n",
    "df[\"loan_status_class\"]=coding(df[\"loan_status\"],dict1)"
   ]
  },
  {
   "cell_type": "code",
   "execution_count": 9,
   "metadata": {
    "ExecuteTime": {
     "end_time": "2020-12-08T11:59:39.282705Z",
     "start_time": "2020-12-08T11:59:39.272926Z"
    }
   },
   "outputs": [
    {
     "data": {
      "text/plain": [
       "0    819950\n",
       "1     67429\n",
       "Name: loan_status_class, dtype: int64"
      ]
     },
     "execution_count": 9,
     "metadata": {},
     "output_type": "execute_result"
    }
   ],
   "source": [
    "df.loan_status_class.value_counts()"
   ]
  },
  {
   "cell_type": "markdown",
   "metadata": {},
   "source": [
    "存在正负样本不均衡的问题"
   ]
  },
  {
   "cell_type": "markdown",
   "metadata": {},
   "source": [
    "## 特征分布"
   ]
  },
  {
   "cell_type": "code",
   "execution_count": 10,
   "metadata": {
    "ExecuteTime": {
     "end_time": "2020-12-08T11:59:39.286590Z",
     "start_time": "2020-12-08T11:59:39.283661Z"
    }
   },
   "outputs": [],
   "source": [
    "#col=[\"loan_amnt\",\"term\",\"int_rate\",\"grade\",\"emp_length\",\"annual_inc\",\"verification_status\",\"loan_status\",\"purpose\",\"dti\",\"delinq_2yrs\",\"inq_last_6mths\",'open_acc',\"pub_rec\",\"revol_bal\",\"total_acc\",\"total_rev_hi_lim\",\"addr_state\",\"home_ownership\",\"emp_title\",\"loan_status_class\"]\n",
    "#df1=df[col]   "
   ]
  },
  {
   "cell_type": "code",
   "execution_count": 11,
   "metadata": {
    "ExecuteTime": {
     "end_time": "2020-12-08T11:59:39.290520Z",
     "start_time": "2020-12-08T11:59:39.287566Z"
    }
   },
   "outputs": [],
   "source": [
    "#df1.columns=[\"申请额度\",\"借款期限\",\"利率\",\"评级\",\"工作年限\",\"年收入\",\"收入来源是否核实\",\"借款状态\",\"借款目的\",\"负债率\",\"近两年逾期30天以上的次数\",\"近6个月征信查询次数\",\"未结清借款数\",\"负面记录\",\"未结清借款总额\",\"剩余信用额度\",\"总授信额度\",\"所在地\",\"住房状态\",\"职位\",\"分类\"]"
   ]
  },
  {
   "cell_type": "code",
   "execution_count": 12,
   "metadata": {
    "ExecuteTime": {
     "end_time": "2020-12-08T11:59:39.295374Z",
     "start_time": "2020-12-08T11:59:39.291470Z"
    },
    "scrolled": false
   },
   "outputs": [],
   "source": [
    "#df1.info()"
   ]
  },
  {
   "cell_type": "code",
   "execution_count": 13,
   "metadata": {
    "ExecuteTime": {
     "end_time": "2020-12-08T11:59:39.299303Z",
     "start_time": "2020-12-08T11:59:39.296349Z"
    },
    "scrolled": false
   },
   "outputs": [],
   "source": [
    "##描述分类属性依据好坏样本的分布情况\n",
    "#cla=[\"借款期限\",\"评级\",\"工作年限\",\"收入来源是否核实\",\"借款目的\",\"住房状态\"]\n",
    "#for i in cla:\n",
    "#    pvt=pd.pivot_table(df1[[\"分类\",i]],index=i,columns=\"分类\",aggfunc=len) \n",
    "#    pvt.plot(kind=\"bar\")"
   ]
  },
  {
   "cell_type": "markdown",
   "metadata": {},
   "source": [
    "**由图可知：**  \n",
    "1. 大部分人选择36期贷款，少部分选择60期，但是60期逾期百分比明显高于36期，借款时间越长，风险越大。  \n",
    "2. 评级，这个评级与利息相关的，随着评级下降风险越来越高，利息越来越高，我们可以认为相应的逾期率较大，本图也反馈了LC 评级的优异性能  \n",
    "3. 值得注意的是，工作年限10年以上的借款人相对较多，这与我们的一般认知不符合，除此以外工作1-9年的人群随着工作年限加长，借款需求相对减少，可能是收入相对稳定了  \n",
    "4. 收入来源是否经过核实，大部分是经过核实的，并且经过核实的违约概率相对较低  \n",
    "5. 借款目的：债务整合，还信用卡，家具装修，三类最多  \n",
    "6. 住房状态：按揭与租房最多，租房违约率相对较高  "
   ]
  },
  {
   "cell_type": "code",
   "execution_count": 14,
   "metadata": {
    "ExecuteTime": {
     "end_time": "2020-12-08T11:59:39.303207Z",
     "start_time": "2020-12-08T11:59:39.300254Z"
    },
    "scrolled": false
   },
   "outputs": [],
   "source": [
    "#cel1=[i for i in df1.columns if df1[i].dtypes ==\"float\"]\n",
    "#for i ,j in enumerate(cel1):\n",
    "#    plt.figure(figsize=(8,5*len(cel1)))\n",
    "#    plt.subplot(len(cel1),1,i+1)\n",
    "#    sns.distplot(df1[j][df1.分类==0],color=\"b\")\n",
    "#    sns.distplot(df1[j][df1.分类==1],color=\"r\")"
   ]
  },
  {
   "cell_type": "markdown",
   "metadata": {
    "ExecuteTime": {
     "end_time": "2020-11-22T11:15:46.661884Z",
     "start_time": "2020-11-22T11:15:37.351107Z"
    }
   },
   "source": [
    "借款额度呈正太分布，稍有一点左偏，表明业务多集中在中小额度上面，且额度越高逾期率相对有所增加。  \n",
    "利率符合正态分布  \n",
    "年收入差距很大  \n",
    "近两年逾期30天以上的次数，说明即使一次逾期记录也没有，客户也是可能逾期的  \n",
    "征信查询，查的越多越容易逾期  \n",
    "没有负面记录也是会逾期的，但是有负面记录的人逾期率要高得多。  "
   ]
  },
  {
   "cell_type": "markdown",
   "metadata": {},
   "source": [
    "申请地与职位的频率"
   ]
  },
  {
   "cell_type": "code",
   "execution_count": 15,
   "metadata": {
    "ExecuteTime": {
     "end_time": "2020-12-08T11:59:39.308062Z",
     "start_time": "2020-12-08T11:59:39.304158Z"
    }
   },
   "outputs": [],
   "source": [
    "#df1[\"职位\"].value_counts()"
   ]
  },
  {
   "cell_type": "code",
   "execution_count": 16,
   "metadata": {
    "ExecuteTime": {
     "end_time": "2020-12-08T11:59:39.312942Z",
     "start_time": "2020-12-08T11:59:39.309038Z"
    },
    "scrolled": true
   },
   "outputs": [],
   "source": [
    "#df1[\"所在地\"].value_counts()"
   ]
  },
  {
   "cell_type": "markdown",
   "metadata": {},
   "source": [
    "借款人 职务 大多是公司职员  \n",
    "借款人主要集中在，加利福利亚，纽约 德克萨斯州（该公司中部在加州）"
   ]
  },
  {
   "cell_type": "markdown",
   "metadata": {},
   "source": [
    "探索借款用途与利率之间的关系"
   ]
  },
  {
   "cell_type": "code",
   "execution_count": 17,
   "metadata": {
    "ExecuteTime": {
     "end_time": "2020-12-08T11:59:39.317822Z",
     "start_time": "2020-12-08T11:59:39.313918Z"
    }
   },
   "outputs": [],
   "source": [
    "#sns.boxplot(y=\"purpose\",x=\"int_rate\",data=df)"
   ]
  },
  {
   "cell_type": "markdown",
   "metadata": {},
   "source": [
    "借款用途为 small_business 的借款利率最高"
   ]
  },
  {
   "cell_type": "markdown",
   "metadata": {},
   "source": [
    " 探索利率、收入、工作年限和借款状态之间的关系"
   ]
  },
  {
   "cell_type": "code",
   "execution_count": 18,
   "metadata": {
    "ExecuteTime": {
     "end_time": "2020-12-08T11:59:39.321726Z",
     "start_time": "2020-12-08T11:59:39.318798Z"
    }
   },
   "outputs": [],
   "source": [
    "#dict2={\"10+ years\": 10,\"9 years\": 9,\"8 years\": 8,\"7 years\": 7,\"6 years\": 6,\"5 years\": 5,\"4 years\": 4,\"3 years\": 3,\"2 years\": 2,\"1 year\": 1,\"< 1 year\": 0}\n",
    "#df[\"emp_length\"]=coding(df[\"emp_length\"],dict2)\n",
    "#df[\"annual_inc\"]=df[\"annual_inc\"].astype(\"float\") #把收入中odjest 转换成float\n",
    "#sns.pairplot(df, vars=[\"int_rate\",\"annual_inc\", \"emp_length\"],hue=\"loan_status_class\", diag_kind=\"kde\" ,kind=\"reg\", size = 3)"
   ]
  },
  {
   "cell_type": "markdown",
   "metadata": {},
   "source": [
    "工作年限越长，收入越高违约情况相对较低，相应的享受更低的利息"
   ]
  },
  {
   "cell_type": "markdown",
   "metadata": {},
   "source": [
    "## 相关性"
   ]
  },
  {
   "cell_type": "code",
   "execution_count": 19,
   "metadata": {
    "ExecuteTime": {
     "end_time": "2020-12-08T11:59:39.325630Z",
     "start_time": "2020-12-08T11:59:39.322701Z"
    }
   },
   "outputs": [],
   "source": [
    "#sns.heatmap(df1.corr())"
   ]
  },
  {
   "cell_type": "markdown",
   "metadata": {
    "ExecuteTime": {
     "end_time": "2020-11-22T11:49:01.233974Z",
     "start_time": "2020-11-22T11:48:27.419Z"
    }
   },
   "source": [
    "# 特征工程"
   ]
  },
  {
   "cell_type": "markdown",
   "metadata": {},
   "source": [
    "## 缺失值"
   ]
  },
  {
   "cell_type": "code",
   "execution_count": 20,
   "metadata": {
    "ExecuteTime": {
     "end_time": "2020-12-08T11:59:39.916109Z",
     "start_time": "2020-12-08T11:59:39.326605Z"
    },
    "scrolled": true
   },
   "outputs": [
    {
     "name": "stdout",
     "output_type": "stream",
     "text": [
      "id \t 0\n",
      "member_id \t 0\n",
      "loan_amnt \t 0\n",
      "funded_amnt \t 0\n",
      "funded_amnt_inv \t 0\n",
      "term \t 0\n",
      "int_rate \t 0\n",
      "installment \t 0\n",
      "grade \t 0\n",
      "sub_grade \t 0\n",
      "emp_title \t 51462\n",
      "emp_length \t 44825\n",
      "home_ownership \t 0\n",
      "annual_inc \t 4\n",
      "verification_status \t 0\n",
      "issue_d \t 0\n",
      "loan_status \t 0\n",
      "pymnt_plan \t 0\n",
      "url \t 0\n",
      "desc \t 761351\n",
      "purpose \t 0\n",
      "title \t 152\n",
      "zip_code \t 0\n",
      "addr_state \t 0\n",
      "dti \t 0\n",
      "delinq_2yrs \t 29\n",
      "earliest_cr_line \t 29\n",
      "inq_last_6mths \t 29\n",
      "mths_since_last_delinq \t 454312\n",
      "mths_since_last_record \t 750326\n",
      "open_acc \t 29\n",
      "pub_rec \t 29\n",
      "revol_bal \t 0\n",
      "revol_util \t 502\n",
      "total_acc \t 29\n",
      "initial_list_status \t 0\n",
      "out_prncp \t 0\n",
      "out_prncp_inv \t 0\n",
      "total_pymnt \t 0\n",
      "total_pymnt_inv \t 0\n",
      "total_rec_prncp \t 0\n",
      "total_rec_int \t 0\n",
      "total_rec_late_fee \t 0\n",
      "recoveries \t 0\n",
      "collection_recovery_fee \t 0\n",
      "last_pymnt_d \t 17659\n",
      "last_pymnt_amnt \t 0\n",
      "next_pymnt_d \t 252971\n",
      "last_credit_pull_d \t 53\n",
      "collections_12_mths_ex_med \t 145\n",
      "mths_since_last_major_derog \t 665676\n",
      "policy_code \t 0\n",
      "application_type \t 0\n",
      "annual_inc_joint \t 886868\n",
      "dti_joint \t 886870\n",
      "verification_status_joint \t 886868\n",
      "acc_now_delinq \t 29\n",
      "tot_coll_amt \t 70276\n",
      "tot_cur_bal \t 70276\n",
      "open_acc_6m \t 866007\n",
      "open_il_6m \t 866007\n",
      "open_il_12m \t 866007\n",
      "open_il_24m \t 866007\n",
      "mths_since_rcnt_il \t 866569\n",
      "total_bal_il \t 866007\n",
      "il_util \t 868762\n",
      "open_rv_12m \t 866007\n",
      "open_rv_24m \t 866007\n",
      "max_bal_bc \t 866007\n",
      "all_util \t 866007\n",
      "total_rev_hi_lim \t 70276\n",
      "inq_fi \t 866007\n",
      "total_cu_tl \t 866007\n",
      "inq_last_12m \t 866007\n",
      "loan_status_class \t 0\n"
     ]
    }
   ],
   "source": [
    "#查看缺失值\n",
    "for i in df.columns:\n",
    "    miss=df[i].isnull().sum()\n",
    "    print(i,\"\\t\",miss)"
   ]
  },
  {
   "cell_type": "code",
   "execution_count": 21,
   "metadata": {
    "ExecuteTime": {
     "end_time": "2020-12-08T11:59:40.800297Z",
     "start_time": "2020-12-08T11:59:39.917085Z"
    }
   },
   "outputs": [
    {
     "data": {
      "text/plain": [
       "(887379, 53)"
      ]
     },
     "execution_count": 21,
     "metadata": {},
     "output_type": "execute_result"
    }
   ],
   "source": [
    "#删除缺失别列0.8以上的列\n",
    "half_count = len(df)*0.8 # 设定阀值\n",
    "df = df.dropna(thresh = half_count, axis = 1 ) #若某一列数据缺失的数量超过阀值就会被删除\n",
    "df.shape\n",
    "#data = data.drop(['desc', 'url'，'id'], axis = 1) #删除了一些无用列"
   ]
  },
  {
   "cell_type": "code",
   "execution_count": 22,
   "metadata": {
    "ExecuteTime": {
     "end_time": "2020-12-08T11:59:41.444457Z",
     "start_time": "2020-12-08T11:59:40.801273Z"
    }
   },
   "outputs": [
    {
     "name": "stdout",
     "output_type": "stream",
     "text": [
      "emp_title object 0.057993258799227836\n",
      "emp_length object 0.050513929223026464\n",
      "annual_inc float64 4.507656818563433e-06\n",
      "title object 0.00017129095910541043\n",
      "delinq_2yrs float64 3.2680511934584885e-05\n",
      "earliest_cr_line object 3.2680511934584885e-05\n",
      "inq_last_6mths float64 3.2680511934584885e-05\n",
      "open_acc float64 3.2680511934584885e-05\n",
      "pub_rec float64 3.2680511934584885e-05\n",
      "revol_util float64 0.0005657109307297107\n",
      "total_acc float64 3.2680511934584885e-05\n",
      "last_pymnt_d object 0.019900177939752912\n",
      "last_credit_pull_d object 5.9726452845965476e-05\n",
      "collections_12_mths_ex_med float64 0.00016340255967292442\n",
      "acc_now_delinq float64 3.2680511934584885e-05\n",
      "tot_coll_amt float64 0.07919502264534094\n",
      "tot_cur_bal float64 0.07919502264534094\n",
      "total_rev_hi_lim float64 0.07919502264534094\n"
     ]
    }
   ],
   "source": [
    "#查看缺失值情况并决定哪些需要删除\n",
    "data_defect=[i for i in df.columns if (df[i].isnull().sum())/df.shape[0] != 0]\n",
    "for i in data_defect:\n",
    "    defect=df[i].isnull().sum()/df.shape[0]\n",
    "    j=str(df[i].dtype)\n",
    "    print(i,j, defect)"
   ]
  },
  {
   "cell_type": "markdown",
   "metadata": {},
   "source": [
    "emp_title    职位     众数填充  \n",
    "emp_length   工作时间   众数填充  \n",
    "annual_inc   年收入    **均值填充**  \n",
    "title      借款所有权  众数填充  \n",
    "delinq_2yrs 最近2年逾期30天以上次数   众数填充  \n",
    "earliest_cr_line 最早申请借款额度时间  众数填充  \n",
    "inq_last_6mths 最近6个月的征信查询次数  众数填充  \n",
    "open_acc 未结清账款数  众数填充  \n",
    "pub_rec 贬损公共记录数量  众数填充  \n",
    "revol_util 信贷循环额度使用率  **均值填充**  \n",
    "total_acc 剩余信用额度  众数填充  \n",
    "last_pymnt_d 上个月付款日期  众数填充  \n",
    "last_credit_pull_d 最近一个月LC为这笔贷款提取了信贷 众数填充  \n",
    "collections_12_mths_ex_med 除医疗账单外12个月的欠款数量  众数填充  \n",
    "acc_now_delinq 目前欠款的账户数量  众数填充  \n",
    "tot_coll_amt 催回总额  **均值填充**  \n",
    "tot_cur_bal 所有帐户的当前总余额  **均值填充**  \n",
    "total_rev_hi_lim  总授信额度 **均值填充**  "
   ]
  },
  {
   "cell_type": "code",
   "execution_count": 23,
   "metadata": {
    "ExecuteTime": {
     "end_time": "2020-12-08T11:59:41.938678Z",
     "start_time": "2020-12-08T11:59:41.446409Z"
    }
   },
   "outputs": [],
   "source": [
    "#众数填充\n",
    "fil=[\"emp_title\",\"emp_length\",\"title\",\"delinq_2yrs\",\"earliest_cr_line\",\"inq_last_6mths\",\"open_acc\",\"pub_rec\",\"total_acc\",\"last_pymnt_d\",\"last_credit_pull_d\",\"collections_12_mths_ex_med\",\"acc_now_delinq\"]\n",
    "from scipy.stats import mode # 计算众数模块\n",
    "for i in fil:\n",
    "    df[i].fillna(df[i].mode()[0], inplace=True)"
   ]
  },
  {
   "cell_type": "code",
   "execution_count": 24,
   "metadata": {
    "ExecuteTime": {
     "end_time": "2020-12-08T11:59:42.438001Z",
     "start_time": "2020-12-08T11:59:41.939654Z"
    }
   },
   "outputs": [
    {
     "name": "stdout",
     "output_type": "stream",
     "text": [
      "annual_inc float64 4.507656818563433e-06\n",
      "revol_util float64 0.0005657109307297107\n",
      "tot_coll_amt float64 0.07919502264534094\n",
      "tot_cur_bal float64 0.07919502264534094\n",
      "total_rev_hi_lim float64 0.07919502264534094\n"
     ]
    }
   ],
   "source": [
    "#确认缺失值情况\n",
    "data_defect=[i for i in df.columns if (df[i].isnull().sum())/df.shape[0] != 0]\n",
    "for i in data_defect:\n",
    "    defect=df[i].isnull().sum()/df.shape[0]\n",
    "    j=str(df[i].dtype)\n",
    "    print(i,j, defect)"
   ]
  },
  {
   "cell_type": "code",
   "execution_count": 25,
   "metadata": {
    "ExecuteTime": {
     "end_time": "2020-12-08T11:59:42.494580Z",
     "start_time": "2020-12-08T11:59:42.438948Z"
    }
   },
   "outputs": [],
   "source": [
    "#均值填充\n",
    "fil=[\"annual_inc\",\"revol_util\",\"tot_coll_amt\",\"tot_cur_bal\",\"total_rev_hi_lim\"]\n",
    "for i in fil:\n",
    "    df[i].fillna(df[i].median(), inplace=True)"
   ]
  },
  {
   "cell_type": "code",
   "execution_count": 26,
   "metadata": {
    "ExecuteTime": {
     "end_time": "2020-12-08T11:59:42.992365Z",
     "start_time": "2020-12-08T11:59:42.497507Z"
    }
   },
   "outputs": [],
   "source": [
    "#确认缺失值情况\n",
    "data_defect=[i for i in df.columns if (df[i].isnull().sum())/df.shape[0] != 0]\n",
    "for i in data_defect:\n",
    "    defect=df[i].isnull().sum()/df.shape[0]\n",
    "    j=str(df[i].dtype)\n",
    "    print(i,j, defect)"
   ]
  },
  {
   "cell_type": "markdown",
   "metadata": {},
   "source": [
    "## 特征筛选"
   ]
  },
  {
   "cell_type": "code",
   "execution_count": 27,
   "metadata": {
    "ExecuteTime": {
     "end_time": "2020-12-08T11:59:43.021644Z",
     "start_time": "2020-12-08T11:59:42.993315Z"
    }
   },
   "outputs": [
    {
     "data": {
      "text/html": [
       "<div>\n",
       "<style scoped>\n",
       "    .dataframe tbody tr th:only-of-type {\n",
       "        vertical-align: middle;\n",
       "    }\n",
       "\n",
       "    .dataframe tbody tr th {\n",
       "        vertical-align: top;\n",
       "    }\n",
       "\n",
       "    .dataframe thead th {\n",
       "        text-align: right;\n",
       "    }\n",
       "</style>\n",
       "<table border=\"1\" class=\"dataframe\">\n",
       "  <thead>\n",
       "    <tr style=\"text-align: right;\">\n",
       "      <th></th>\n",
       "      <th>id</th>\n",
       "      <th>member_id</th>\n",
       "      <th>loan_amnt</th>\n",
       "      <th>funded_amnt</th>\n",
       "      <th>funded_amnt_inv</th>\n",
       "      <th>term</th>\n",
       "      <th>int_rate</th>\n",
       "      <th>installment</th>\n",
       "      <th>grade</th>\n",
       "      <th>sub_grade</th>\n",
       "      <th>emp_title</th>\n",
       "      <th>emp_length</th>\n",
       "      <th>home_ownership</th>\n",
       "      <th>annual_inc</th>\n",
       "      <th>verification_status</th>\n",
       "      <th>issue_d</th>\n",
       "      <th>loan_status</th>\n",
       "      <th>pymnt_plan</th>\n",
       "      <th>url</th>\n",
       "      <th>purpose</th>\n",
       "      <th>title</th>\n",
       "      <th>zip_code</th>\n",
       "      <th>addr_state</th>\n",
       "      <th>dti</th>\n",
       "      <th>delinq_2yrs</th>\n",
       "      <th>earliest_cr_line</th>\n",
       "      <th>inq_last_6mths</th>\n",
       "      <th>open_acc</th>\n",
       "      <th>pub_rec</th>\n",
       "      <th>revol_bal</th>\n",
       "      <th>revol_util</th>\n",
       "      <th>total_acc</th>\n",
       "      <th>initial_list_status</th>\n",
       "      <th>out_prncp</th>\n",
       "      <th>out_prncp_inv</th>\n",
       "      <th>total_pymnt</th>\n",
       "      <th>total_pymnt_inv</th>\n",
       "      <th>total_rec_prncp</th>\n",
       "      <th>total_rec_int</th>\n",
       "      <th>total_rec_late_fee</th>\n",
       "      <th>recoveries</th>\n",
       "      <th>collection_recovery_fee</th>\n",
       "      <th>last_pymnt_d</th>\n",
       "      <th>last_pymnt_amnt</th>\n",
       "      <th>last_credit_pull_d</th>\n",
       "      <th>collections_12_mths_ex_med</th>\n",
       "      <th>policy_code</th>\n",
       "      <th>application_type</th>\n",
       "      <th>acc_now_delinq</th>\n",
       "      <th>tot_coll_amt</th>\n",
       "      <th>tot_cur_bal</th>\n",
       "      <th>total_rev_hi_lim</th>\n",
       "      <th>loan_status_class</th>\n",
       "    </tr>\n",
       "  </thead>\n",
       "  <tbody>\n",
       "    <tr>\n",
       "      <th>0</th>\n",
       "      <td>1077501</td>\n",
       "      <td>1296599</td>\n",
       "      <td>5000.0</td>\n",
       "      <td>5000.0</td>\n",
       "      <td>4975.0</td>\n",
       "      <td>36 months</td>\n",
       "      <td>10.65</td>\n",
       "      <td>162.87</td>\n",
       "      <td>B</td>\n",
       "      <td>B2</td>\n",
       "      <td>Teacher</td>\n",
       "      <td>10+ years</td>\n",
       "      <td>RENT</td>\n",
       "      <td>24000.0</td>\n",
       "      <td>Verified</td>\n",
       "      <td>Dec-2011</td>\n",
       "      <td>Fully Paid</td>\n",
       "      <td>n</td>\n",
       "      <td>https://www.lendingclub.com/browse/loanDetail.action?loan_id=1077501</td>\n",
       "      <td>credit_card</td>\n",
       "      <td>Computer</td>\n",
       "      <td>860xx</td>\n",
       "      <td>AZ</td>\n",
       "      <td>27.65</td>\n",
       "      <td>0.0</td>\n",
       "      <td>Jan-1985</td>\n",
       "      <td>1.0</td>\n",
       "      <td>3.0</td>\n",
       "      <td>0.0</td>\n",
       "      <td>13648.0</td>\n",
       "      <td>83.7</td>\n",
       "      <td>9.0</td>\n",
       "      <td>f</td>\n",
       "      <td>0.0</td>\n",
       "      <td>0.0</td>\n",
       "      <td>5861.071414</td>\n",
       "      <td>5831.78</td>\n",
       "      <td>5000.00</td>\n",
       "      <td>861.07</td>\n",
       "      <td>0.00</td>\n",
       "      <td>0.00</td>\n",
       "      <td>0.00</td>\n",
       "      <td>Jan-2015</td>\n",
       "      <td>171.62</td>\n",
       "      <td>Jan-2016</td>\n",
       "      <td>0.0</td>\n",
       "      <td>1.0</td>\n",
       "      <td>INDIVIDUAL</td>\n",
       "      <td>0.0</td>\n",
       "      <td>0.0</td>\n",
       "      <td>80559.0</td>\n",
       "      <td>23700.0</td>\n",
       "      <td>0</td>\n",
       "    </tr>\n",
       "    <tr>\n",
       "      <th>1</th>\n",
       "      <td>1077430</td>\n",
       "      <td>1314167</td>\n",
       "      <td>2500.0</td>\n",
       "      <td>2500.0</td>\n",
       "      <td>2500.0</td>\n",
       "      <td>60 months</td>\n",
       "      <td>15.27</td>\n",
       "      <td>59.83</td>\n",
       "      <td>C</td>\n",
       "      <td>C4</td>\n",
       "      <td>Ryder</td>\n",
       "      <td>&lt; 1 year</td>\n",
       "      <td>RENT</td>\n",
       "      <td>30000.0</td>\n",
       "      <td>Source Verified</td>\n",
       "      <td>Dec-2011</td>\n",
       "      <td>Charged Off</td>\n",
       "      <td>n</td>\n",
       "      <td>https://www.lendingclub.com/browse/loanDetail.action?loan_id=1077430</td>\n",
       "      <td>car</td>\n",
       "      <td>bike</td>\n",
       "      <td>309xx</td>\n",
       "      <td>GA</td>\n",
       "      <td>1.00</td>\n",
       "      <td>0.0</td>\n",
       "      <td>Apr-1999</td>\n",
       "      <td>5.0</td>\n",
       "      <td>3.0</td>\n",
       "      <td>0.0</td>\n",
       "      <td>1687.0</td>\n",
       "      <td>9.4</td>\n",
       "      <td>4.0</td>\n",
       "      <td>f</td>\n",
       "      <td>0.0</td>\n",
       "      <td>0.0</td>\n",
       "      <td>1008.710000</td>\n",
       "      <td>1008.71</td>\n",
       "      <td>456.46</td>\n",
       "      <td>435.17</td>\n",
       "      <td>0.00</td>\n",
       "      <td>117.08</td>\n",
       "      <td>1.11</td>\n",
       "      <td>Apr-2013</td>\n",
       "      <td>119.66</td>\n",
       "      <td>Sep-2013</td>\n",
       "      <td>0.0</td>\n",
       "      <td>1.0</td>\n",
       "      <td>INDIVIDUAL</td>\n",
       "      <td>0.0</td>\n",
       "      <td>0.0</td>\n",
       "      <td>80559.0</td>\n",
       "      <td>23700.0</td>\n",
       "      <td>1</td>\n",
       "    </tr>\n",
       "    <tr>\n",
       "      <th>2</th>\n",
       "      <td>1077175</td>\n",
       "      <td>1313524</td>\n",
       "      <td>2400.0</td>\n",
       "      <td>2400.0</td>\n",
       "      <td>2400.0</td>\n",
       "      <td>36 months</td>\n",
       "      <td>15.96</td>\n",
       "      <td>84.33</td>\n",
       "      <td>C</td>\n",
       "      <td>C5</td>\n",
       "      <td>Teacher</td>\n",
       "      <td>10+ years</td>\n",
       "      <td>RENT</td>\n",
       "      <td>12252.0</td>\n",
       "      <td>Not Verified</td>\n",
       "      <td>Dec-2011</td>\n",
       "      <td>Fully Paid</td>\n",
       "      <td>n</td>\n",
       "      <td>https://www.lendingclub.com/browse/loanDetail.action?loan_id=1077175</td>\n",
       "      <td>small_business</td>\n",
       "      <td>real estate business</td>\n",
       "      <td>606xx</td>\n",
       "      <td>IL</td>\n",
       "      <td>8.72</td>\n",
       "      <td>0.0</td>\n",
       "      <td>Nov-2001</td>\n",
       "      <td>2.0</td>\n",
       "      <td>2.0</td>\n",
       "      <td>0.0</td>\n",
       "      <td>2956.0</td>\n",
       "      <td>98.5</td>\n",
       "      <td>10.0</td>\n",
       "      <td>f</td>\n",
       "      <td>0.0</td>\n",
       "      <td>0.0</td>\n",
       "      <td>3003.653644</td>\n",
       "      <td>3003.65</td>\n",
       "      <td>2400.00</td>\n",
       "      <td>603.65</td>\n",
       "      <td>0.00</td>\n",
       "      <td>0.00</td>\n",
       "      <td>0.00</td>\n",
       "      <td>Jun-2014</td>\n",
       "      <td>649.91</td>\n",
       "      <td>Jan-2016</td>\n",
       "      <td>0.0</td>\n",
       "      <td>1.0</td>\n",
       "      <td>INDIVIDUAL</td>\n",
       "      <td>0.0</td>\n",
       "      <td>0.0</td>\n",
       "      <td>80559.0</td>\n",
       "      <td>23700.0</td>\n",
       "      <td>0</td>\n",
       "    </tr>\n",
       "    <tr>\n",
       "      <th>3</th>\n",
       "      <td>1076863</td>\n",
       "      <td>1277178</td>\n",
       "      <td>10000.0</td>\n",
       "      <td>10000.0</td>\n",
       "      <td>10000.0</td>\n",
       "      <td>36 months</td>\n",
       "      <td>13.49</td>\n",
       "      <td>339.31</td>\n",
       "      <td>C</td>\n",
       "      <td>C1</td>\n",
       "      <td>AIR RESOURCES BOARD</td>\n",
       "      <td>10+ years</td>\n",
       "      <td>RENT</td>\n",
       "      <td>49200.0</td>\n",
       "      <td>Source Verified</td>\n",
       "      <td>Dec-2011</td>\n",
       "      <td>Fully Paid</td>\n",
       "      <td>n</td>\n",
       "      <td>https://www.lendingclub.com/browse/loanDetail.action?loan_id=1076863</td>\n",
       "      <td>other</td>\n",
       "      <td>personel</td>\n",
       "      <td>917xx</td>\n",
       "      <td>CA</td>\n",
       "      <td>20.00</td>\n",
       "      <td>0.0</td>\n",
       "      <td>Feb-1996</td>\n",
       "      <td>1.0</td>\n",
       "      <td>10.0</td>\n",
       "      <td>0.0</td>\n",
       "      <td>5598.0</td>\n",
       "      <td>21.0</td>\n",
       "      <td>37.0</td>\n",
       "      <td>f</td>\n",
       "      <td>0.0</td>\n",
       "      <td>0.0</td>\n",
       "      <td>12226.302212</td>\n",
       "      <td>12226.30</td>\n",
       "      <td>10000.00</td>\n",
       "      <td>2209.33</td>\n",
       "      <td>16.97</td>\n",
       "      <td>0.00</td>\n",
       "      <td>0.00</td>\n",
       "      <td>Jan-2015</td>\n",
       "      <td>357.48</td>\n",
       "      <td>Jan-2015</td>\n",
       "      <td>0.0</td>\n",
       "      <td>1.0</td>\n",
       "      <td>INDIVIDUAL</td>\n",
       "      <td>0.0</td>\n",
       "      <td>0.0</td>\n",
       "      <td>80559.0</td>\n",
       "      <td>23700.0</td>\n",
       "      <td>0</td>\n",
       "    </tr>\n",
       "    <tr>\n",
       "      <th>4</th>\n",
       "      <td>1075358</td>\n",
       "      <td>1311748</td>\n",
       "      <td>3000.0</td>\n",
       "      <td>3000.0</td>\n",
       "      <td>3000.0</td>\n",
       "      <td>60 months</td>\n",
       "      <td>12.69</td>\n",
       "      <td>67.79</td>\n",
       "      <td>B</td>\n",
       "      <td>B5</td>\n",
       "      <td>University Medical Group</td>\n",
       "      <td>1 year</td>\n",
       "      <td>RENT</td>\n",
       "      <td>80000.0</td>\n",
       "      <td>Source Verified</td>\n",
       "      <td>Dec-2011</td>\n",
       "      <td>Current</td>\n",
       "      <td>n</td>\n",
       "      <td>https://www.lendingclub.com/browse/loanDetail.action?loan_id=1075358</td>\n",
       "      <td>other</td>\n",
       "      <td>Personal</td>\n",
       "      <td>972xx</td>\n",
       "      <td>OR</td>\n",
       "      <td>17.94</td>\n",
       "      <td>0.0</td>\n",
       "      <td>Jan-1996</td>\n",
       "      <td>0.0</td>\n",
       "      <td>15.0</td>\n",
       "      <td>0.0</td>\n",
       "      <td>27783.0</td>\n",
       "      <td>53.9</td>\n",
       "      <td>38.0</td>\n",
       "      <td>f</td>\n",
       "      <td>766.9</td>\n",
       "      <td>766.9</td>\n",
       "      <td>3242.170000</td>\n",
       "      <td>3242.17</td>\n",
       "      <td>2233.10</td>\n",
       "      <td>1009.07</td>\n",
       "      <td>0.00</td>\n",
       "      <td>0.00</td>\n",
       "      <td>0.00</td>\n",
       "      <td>Jan-2016</td>\n",
       "      <td>67.79</td>\n",
       "      <td>Jan-2016</td>\n",
       "      <td>0.0</td>\n",
       "      <td>1.0</td>\n",
       "      <td>INDIVIDUAL</td>\n",
       "      <td>0.0</td>\n",
       "      <td>0.0</td>\n",
       "      <td>80559.0</td>\n",
       "      <td>23700.0</td>\n",
       "      <td>0</td>\n",
       "    </tr>\n",
       "  </tbody>\n",
       "</table>\n",
       "</div>"
      ],
      "text/plain": [
       "        id  member_id  loan_amnt  funded_amnt  funded_amnt_inv        term  \\\n",
       "0  1077501    1296599     5000.0       5000.0           4975.0   36 months   \n",
       "1  1077430    1314167     2500.0       2500.0           2500.0   60 months   \n",
       "2  1077175    1313524     2400.0       2400.0           2400.0   36 months   \n",
       "3  1076863    1277178    10000.0      10000.0          10000.0   36 months   \n",
       "4  1075358    1311748     3000.0       3000.0           3000.0   60 months   \n",
       "\n",
       "   int_rate  installment grade sub_grade                 emp_title emp_length  \\\n",
       "0     10.65       162.87     B        B2                   Teacher  10+ years   \n",
       "1     15.27        59.83     C        C4                     Ryder   < 1 year   \n",
       "2     15.96        84.33     C        C5                   Teacher  10+ years   \n",
       "3     13.49       339.31     C        C1       AIR RESOURCES BOARD  10+ years   \n",
       "4     12.69        67.79     B        B5  University Medical Group     1 year   \n",
       "\n",
       "  home_ownership  annual_inc verification_status   issue_d  loan_status  \\\n",
       "0           RENT     24000.0            Verified  Dec-2011   Fully Paid   \n",
       "1           RENT     30000.0     Source Verified  Dec-2011  Charged Off   \n",
       "2           RENT     12252.0        Not Verified  Dec-2011   Fully Paid   \n",
       "3           RENT     49200.0     Source Verified  Dec-2011   Fully Paid   \n",
       "4           RENT     80000.0     Source Verified  Dec-2011      Current   \n",
       "\n",
       "  pymnt_plan  \\\n",
       "0          n   \n",
       "1          n   \n",
       "2          n   \n",
       "3          n   \n",
       "4          n   \n",
       "\n",
       "                                                                    url  \\\n",
       "0  https://www.lendingclub.com/browse/loanDetail.action?loan_id=1077501   \n",
       "1  https://www.lendingclub.com/browse/loanDetail.action?loan_id=1077430   \n",
       "2  https://www.lendingclub.com/browse/loanDetail.action?loan_id=1077175   \n",
       "3  https://www.lendingclub.com/browse/loanDetail.action?loan_id=1076863   \n",
       "4  https://www.lendingclub.com/browse/loanDetail.action?loan_id=1075358   \n",
       "\n",
       "          purpose                 title zip_code addr_state    dti  \\\n",
       "0     credit_card              Computer    860xx         AZ  27.65   \n",
       "1             car                  bike    309xx         GA   1.00   \n",
       "2  small_business  real estate business    606xx         IL   8.72   \n",
       "3           other              personel    917xx         CA  20.00   \n",
       "4           other              Personal    972xx         OR  17.94   \n",
       "\n",
       "   delinq_2yrs earliest_cr_line  inq_last_6mths  open_acc  pub_rec  revol_bal  \\\n",
       "0          0.0         Jan-1985             1.0       3.0      0.0    13648.0   \n",
       "1          0.0         Apr-1999             5.0       3.0      0.0     1687.0   \n",
       "2          0.0         Nov-2001             2.0       2.0      0.0     2956.0   \n",
       "3          0.0         Feb-1996             1.0      10.0      0.0     5598.0   \n",
       "4          0.0         Jan-1996             0.0      15.0      0.0    27783.0   \n",
       "\n",
       "   revol_util  total_acc initial_list_status  out_prncp  out_prncp_inv  \\\n",
       "0        83.7        9.0                   f        0.0            0.0   \n",
       "1         9.4        4.0                   f        0.0            0.0   \n",
       "2        98.5       10.0                   f        0.0            0.0   \n",
       "3        21.0       37.0                   f        0.0            0.0   \n",
       "4        53.9       38.0                   f      766.9          766.9   \n",
       "\n",
       "    total_pymnt  total_pymnt_inv  total_rec_prncp  total_rec_int  \\\n",
       "0   5861.071414          5831.78          5000.00         861.07   \n",
       "1   1008.710000          1008.71           456.46         435.17   \n",
       "2   3003.653644          3003.65          2400.00         603.65   \n",
       "3  12226.302212         12226.30         10000.00        2209.33   \n",
       "4   3242.170000          3242.17          2233.10        1009.07   \n",
       "\n",
       "   total_rec_late_fee  recoveries  collection_recovery_fee last_pymnt_d  \\\n",
       "0                0.00        0.00                     0.00     Jan-2015   \n",
       "1                0.00      117.08                     1.11     Apr-2013   \n",
       "2                0.00        0.00                     0.00     Jun-2014   \n",
       "3               16.97        0.00                     0.00     Jan-2015   \n",
       "4                0.00        0.00                     0.00     Jan-2016   \n",
       "\n",
       "   last_pymnt_amnt last_credit_pull_d  collections_12_mths_ex_med  \\\n",
       "0           171.62           Jan-2016                         0.0   \n",
       "1           119.66           Sep-2013                         0.0   \n",
       "2           649.91           Jan-2016                         0.0   \n",
       "3           357.48           Jan-2015                         0.0   \n",
       "4            67.79           Jan-2016                         0.0   \n",
       "\n",
       "   policy_code application_type  acc_now_delinq  tot_coll_amt  tot_cur_bal  \\\n",
       "0          1.0       INDIVIDUAL             0.0           0.0      80559.0   \n",
       "1          1.0       INDIVIDUAL             0.0           0.0      80559.0   \n",
       "2          1.0       INDIVIDUAL             0.0           0.0      80559.0   \n",
       "3          1.0       INDIVIDUAL             0.0           0.0      80559.0   \n",
       "4          1.0       INDIVIDUAL             0.0           0.0      80559.0   \n",
       "\n",
       "   total_rev_hi_lim  loan_status_class  \n",
       "0           23700.0                  0  \n",
       "1           23700.0                  1  \n",
       "2           23700.0                  0  \n",
       "3           23700.0                  0  \n",
       "4           23700.0                  0  "
      ]
     },
     "execution_count": 27,
     "metadata": {},
     "output_type": "execute_result"
    }
   ],
   "source": [
    "df.head(5)"
   ]
  },
  {
   "cell_type": "markdown",
   "metadata": {},
   "source": [
    "\"id\" 无意义  \n",
    "\"member_id\"  无意义  \n",
    "\"loan_status\"  已被替换  \n",
    "\"pymnt_plan\"  严重不均衡    \n",
    "\"url\"  无意义  \n",
    "\"zip_code\"  无意义  \n",
    "\"policy_code\"  同值  \n",
    "\"application_type\"  严重不均衡  \n",
    "\"emp_title \" 无意义  \n",
    "\"title\"  无意义\n",
    "\"addr_state\" 无意义  \n"
   ]
  },
  {
   "cell_type": "code",
   "execution_count": 28,
   "metadata": {
    "ExecuteTime": {
     "end_time": "2020-12-08T11:59:43.209987Z",
     "start_time": "2020-12-08T11:59:43.022595Z"
    }
   },
   "outputs": [],
   "source": [
    "df_drop=df[[\"id\",\"member_id\",\"loan_status\",\"pymnt_plan\",\"url\",\"zip_code\",\"policy_code\",\"application_type\",\n",
    "            \"emp_title\",\"title\",\"addr_state\"]]\n",
    "df=df.drop(df_drop,axis=1)"
   ]
  },
  {
   "cell_type": "code",
   "execution_count": 29,
   "metadata": {
    "ExecuteTime": {
     "end_time": "2020-12-08T11:59:43.213891Z",
     "start_time": "2020-12-08T11:59:43.210964Z"
    }
   },
   "outputs": [],
   "source": [
    "##同值信息处理\n",
    "#from scipy.stats import mode\n",
    "#equ_fea=[]\n",
    "#for i in df.columns:\n",
    "#        mode_value=mode(df[i])[0][0]\n",
    "#        mode_rate=mode(df[i])[1][0]/df.shape[0]\n",
    "#        if mode_rate >0.9:\n",
    "#            equ_fea.append([i,mode_value,mode_rate])\n",
    "#dt=pd.DataFrame(equ_fea,columns=[\"name\",\"value\",\"equi\"])\n",
    "#dt.sort_values(by=\"equi\")"
   ]
  },
  {
   "cell_type": "code",
   "execution_count": 30,
   "metadata": {
    "ExecuteTime": {
     "end_time": "2020-12-08T11:59:43.400345Z",
     "start_time": "2020-12-08T11:59:43.214867Z"
    }
   },
   "outputs": [],
   "source": [
    "df_drop=df[[\"recoveries\",\"collection_recovery_fee\",\"total_rec_late_fee\"]]\n",
    "df=df.drop(df_drop,axis=1)"
   ]
  },
  {
   "cell_type": "code",
   "execution_count": 31,
   "metadata": {
    "ExecuteTime": {
     "end_time": "2020-12-08T11:59:43.409122Z",
     "start_time": "2020-12-08T11:59:43.401284Z"
    }
   },
   "outputs": [],
   "source": [
    "# 定义字典，记录每个特征的信息值iv\n",
    "iv_dict=dict()\n",
    "def cal_iv(df,feature,target='target'):\n",
    "    ls=[]\n",
    "    for val in df[feature].unique():\n",
    "        al=df[df[feature]==val][feature].count()\n",
    "        good=df[(df[feature]==val)&(df[target]==1)][feature].count()\n",
    "        bad=df[(df[feature]==val)&(df[target]==0)][feature].count()\n",
    "        ls.append([val,al,good,bad])\n",
    "    data=pd.DataFrame(ls,columns=[feature,'all','good','bad'])\n",
    "    good_rate=data['good']/data['good'].sum()# good边际概率\n",
    "    bad_rate=data['bad']/data['bad'].sum()# bad边际概率\n",
    "    data['woe']=np.log(good_rate/bad_rate)# woe为证据权重\n",
    "    data = data.replace({'woe': {np.inf: 0, -np.inf: 0}})\n",
    "    data['iv']=data['woe']*(good_rate-bad_rate)\n",
    "    iv=data.iv.sum()\n",
    "#     添加到字典\n",
    "    if feature not in iv_dict.keys():\n",
    "        iv_dict[feature]=iv\n",
    "    print('iv for %s is %f: '%(feature,iv))\n",
    "    return iv,data"
   ]
  },
  {
   "cell_type": "code",
   "execution_count": 32,
   "metadata": {
    "ExecuteTime": {
     "end_time": "2020-12-08T11:59:44.205519Z",
     "start_time": "2020-12-08T11:59:43.410067Z"
    },
    "scrolled": true
   },
   "outputs": [
    {
     "data": {
      "text/plain": [
       "loan_amnt                       1372\n",
       "funded_amnt                     1372\n",
       "funded_amnt_inv                 9856\n",
       "term                               2\n",
       "int_rate                         542\n",
       "installment                    68711\n",
       "grade                              7\n",
       "sub_grade                         35\n",
       "emp_length                        11\n",
       "home_ownership                     6\n",
       "annual_inc                     49384\n",
       "verification_status                3\n",
       "issue_d                          103\n",
       "purpose                           14\n",
       "dti                             4086\n",
       "delinq_2yrs                       29\n",
       "earliest_cr_line                 697\n",
       "inq_last_6mths                    28\n",
       "open_acc                          77\n",
       "pub_rec                           32\n",
       "revol_bal                      73740\n",
       "revol_util                      1356\n",
       "total_acc                        135\n",
       "initial_list_status                2\n",
       "out_prncp                     248332\n",
       "out_prncp_inv                 266244\n",
       "total_pymnt                   506726\n",
       "total_pymnt_inv               506616\n",
       "total_rec_prncp               260227\n",
       "total_rec_int                 324635\n",
       "last_pymnt_d                      98\n",
       "last_pymnt_amnt               232451\n",
       "last_credit_pull_d               103\n",
       "collections_12_mths_ex_med        12\n",
       "acc_now_delinq                     8\n",
       "tot_coll_amt                   10325\n",
       "tot_cur_bal                   327342\n",
       "total_rev_hi_lim               21251\n",
       "loan_status_class                  2\n",
       "dtype: int64"
      ]
     },
     "execution_count": 32,
     "metadata": {},
     "output_type": "execute_result"
    }
   ],
   "source": [
    "df.nunique()"
   ]
  },
  {
   "cell_type": "code",
   "execution_count": 33,
   "metadata": {
    "ExecuteTime": {
     "end_time": "2020-12-08T11:59:44.230894Z",
     "start_time": "2020-12-08T11:59:44.206494Z"
    }
   },
   "outputs": [
    {
     "data": {
      "text/html": [
       "<div>\n",
       "<style scoped>\n",
       "    .dataframe tbody tr th:only-of-type {\n",
       "        vertical-align: middle;\n",
       "    }\n",
       "\n",
       "    .dataframe tbody tr th {\n",
       "        vertical-align: top;\n",
       "    }\n",
       "\n",
       "    .dataframe thead th {\n",
       "        text-align: right;\n",
       "    }\n",
       "</style>\n",
       "<table border=\"1\" class=\"dataframe\">\n",
       "  <thead>\n",
       "    <tr style=\"text-align: right;\">\n",
       "      <th></th>\n",
       "      <th>loan_amnt</th>\n",
       "      <th>funded_amnt</th>\n",
       "      <th>funded_amnt_inv</th>\n",
       "      <th>term</th>\n",
       "      <th>int_rate</th>\n",
       "      <th>installment</th>\n",
       "      <th>grade</th>\n",
       "      <th>sub_grade</th>\n",
       "      <th>emp_length</th>\n",
       "      <th>home_ownership</th>\n",
       "      <th>annual_inc</th>\n",
       "      <th>verification_status</th>\n",
       "      <th>issue_d</th>\n",
       "      <th>purpose</th>\n",
       "      <th>dti</th>\n",
       "      <th>delinq_2yrs</th>\n",
       "      <th>earliest_cr_line</th>\n",
       "      <th>inq_last_6mths</th>\n",
       "      <th>open_acc</th>\n",
       "      <th>pub_rec</th>\n",
       "      <th>revol_bal</th>\n",
       "      <th>revol_util</th>\n",
       "      <th>total_acc</th>\n",
       "      <th>initial_list_status</th>\n",
       "      <th>out_prncp</th>\n",
       "      <th>out_prncp_inv</th>\n",
       "      <th>total_pymnt</th>\n",
       "      <th>total_pymnt_inv</th>\n",
       "      <th>total_rec_prncp</th>\n",
       "      <th>total_rec_int</th>\n",
       "      <th>last_pymnt_d</th>\n",
       "      <th>last_pymnt_amnt</th>\n",
       "      <th>last_credit_pull_d</th>\n",
       "      <th>collections_12_mths_ex_med</th>\n",
       "      <th>acc_now_delinq</th>\n",
       "      <th>tot_coll_amt</th>\n",
       "      <th>tot_cur_bal</th>\n",
       "      <th>total_rev_hi_lim</th>\n",
       "      <th>loan_status_class</th>\n",
       "    </tr>\n",
       "  </thead>\n",
       "  <tbody>\n",
       "    <tr>\n",
       "      <th>0</th>\n",
       "      <td>5000.0</td>\n",
       "      <td>5000.0</td>\n",
       "      <td>4975.0</td>\n",
       "      <td>36 months</td>\n",
       "      <td>10.65</td>\n",
       "      <td>162.87</td>\n",
       "      <td>B</td>\n",
       "      <td>B2</td>\n",
       "      <td>10+ years</td>\n",
       "      <td>RENT</td>\n",
       "      <td>24000.0</td>\n",
       "      <td>Verified</td>\n",
       "      <td>Dec-2011</td>\n",
       "      <td>credit_card</td>\n",
       "      <td>27.65</td>\n",
       "      <td>0.0</td>\n",
       "      <td>Jan-1985</td>\n",
       "      <td>1.0</td>\n",
       "      <td>3.0</td>\n",
       "      <td>0.0</td>\n",
       "      <td>13648.0</td>\n",
       "      <td>83.7</td>\n",
       "      <td>9.0</td>\n",
       "      <td>f</td>\n",
       "      <td>0.0</td>\n",
       "      <td>0.0</td>\n",
       "      <td>5861.071414</td>\n",
       "      <td>5831.78</td>\n",
       "      <td>5000.00</td>\n",
       "      <td>861.07</td>\n",
       "      <td>Jan-2015</td>\n",
       "      <td>171.62</td>\n",
       "      <td>Jan-2016</td>\n",
       "      <td>0.0</td>\n",
       "      <td>0.0</td>\n",
       "      <td>0.0</td>\n",
       "      <td>80559.0</td>\n",
       "      <td>23700.0</td>\n",
       "      <td>0</td>\n",
       "    </tr>\n",
       "    <tr>\n",
       "      <th>1</th>\n",
       "      <td>2500.0</td>\n",
       "      <td>2500.0</td>\n",
       "      <td>2500.0</td>\n",
       "      <td>60 months</td>\n",
       "      <td>15.27</td>\n",
       "      <td>59.83</td>\n",
       "      <td>C</td>\n",
       "      <td>C4</td>\n",
       "      <td>&lt; 1 year</td>\n",
       "      <td>RENT</td>\n",
       "      <td>30000.0</td>\n",
       "      <td>Source Verified</td>\n",
       "      <td>Dec-2011</td>\n",
       "      <td>car</td>\n",
       "      <td>1.00</td>\n",
       "      <td>0.0</td>\n",
       "      <td>Apr-1999</td>\n",
       "      <td>5.0</td>\n",
       "      <td>3.0</td>\n",
       "      <td>0.0</td>\n",
       "      <td>1687.0</td>\n",
       "      <td>9.4</td>\n",
       "      <td>4.0</td>\n",
       "      <td>f</td>\n",
       "      <td>0.0</td>\n",
       "      <td>0.0</td>\n",
       "      <td>1008.710000</td>\n",
       "      <td>1008.71</td>\n",
       "      <td>456.46</td>\n",
       "      <td>435.17</td>\n",
       "      <td>Apr-2013</td>\n",
       "      <td>119.66</td>\n",
       "      <td>Sep-2013</td>\n",
       "      <td>0.0</td>\n",
       "      <td>0.0</td>\n",
       "      <td>0.0</td>\n",
       "      <td>80559.0</td>\n",
       "      <td>23700.0</td>\n",
       "      <td>1</td>\n",
       "    </tr>\n",
       "    <tr>\n",
       "      <th>2</th>\n",
       "      <td>2400.0</td>\n",
       "      <td>2400.0</td>\n",
       "      <td>2400.0</td>\n",
       "      <td>36 months</td>\n",
       "      <td>15.96</td>\n",
       "      <td>84.33</td>\n",
       "      <td>C</td>\n",
       "      <td>C5</td>\n",
       "      <td>10+ years</td>\n",
       "      <td>RENT</td>\n",
       "      <td>12252.0</td>\n",
       "      <td>Not Verified</td>\n",
       "      <td>Dec-2011</td>\n",
       "      <td>small_business</td>\n",
       "      <td>8.72</td>\n",
       "      <td>0.0</td>\n",
       "      <td>Nov-2001</td>\n",
       "      <td>2.0</td>\n",
       "      <td>2.0</td>\n",
       "      <td>0.0</td>\n",
       "      <td>2956.0</td>\n",
       "      <td>98.5</td>\n",
       "      <td>10.0</td>\n",
       "      <td>f</td>\n",
       "      <td>0.0</td>\n",
       "      <td>0.0</td>\n",
       "      <td>3003.653644</td>\n",
       "      <td>3003.65</td>\n",
       "      <td>2400.00</td>\n",
       "      <td>603.65</td>\n",
       "      <td>Jun-2014</td>\n",
       "      <td>649.91</td>\n",
       "      <td>Jan-2016</td>\n",
       "      <td>0.0</td>\n",
       "      <td>0.0</td>\n",
       "      <td>0.0</td>\n",
       "      <td>80559.0</td>\n",
       "      <td>23700.0</td>\n",
       "      <td>0</td>\n",
       "    </tr>\n",
       "    <tr>\n",
       "      <th>3</th>\n",
       "      <td>10000.0</td>\n",
       "      <td>10000.0</td>\n",
       "      <td>10000.0</td>\n",
       "      <td>36 months</td>\n",
       "      <td>13.49</td>\n",
       "      <td>339.31</td>\n",
       "      <td>C</td>\n",
       "      <td>C1</td>\n",
       "      <td>10+ years</td>\n",
       "      <td>RENT</td>\n",
       "      <td>49200.0</td>\n",
       "      <td>Source Verified</td>\n",
       "      <td>Dec-2011</td>\n",
       "      <td>other</td>\n",
       "      <td>20.00</td>\n",
       "      <td>0.0</td>\n",
       "      <td>Feb-1996</td>\n",
       "      <td>1.0</td>\n",
       "      <td>10.0</td>\n",
       "      <td>0.0</td>\n",
       "      <td>5598.0</td>\n",
       "      <td>21.0</td>\n",
       "      <td>37.0</td>\n",
       "      <td>f</td>\n",
       "      <td>0.0</td>\n",
       "      <td>0.0</td>\n",
       "      <td>12226.302212</td>\n",
       "      <td>12226.30</td>\n",
       "      <td>10000.00</td>\n",
       "      <td>2209.33</td>\n",
       "      <td>Jan-2015</td>\n",
       "      <td>357.48</td>\n",
       "      <td>Jan-2015</td>\n",
       "      <td>0.0</td>\n",
       "      <td>0.0</td>\n",
       "      <td>0.0</td>\n",
       "      <td>80559.0</td>\n",
       "      <td>23700.0</td>\n",
       "      <td>0</td>\n",
       "    </tr>\n",
       "    <tr>\n",
       "      <th>4</th>\n",
       "      <td>3000.0</td>\n",
       "      <td>3000.0</td>\n",
       "      <td>3000.0</td>\n",
       "      <td>60 months</td>\n",
       "      <td>12.69</td>\n",
       "      <td>67.79</td>\n",
       "      <td>B</td>\n",
       "      <td>B5</td>\n",
       "      <td>1 year</td>\n",
       "      <td>RENT</td>\n",
       "      <td>80000.0</td>\n",
       "      <td>Source Verified</td>\n",
       "      <td>Dec-2011</td>\n",
       "      <td>other</td>\n",
       "      <td>17.94</td>\n",
       "      <td>0.0</td>\n",
       "      <td>Jan-1996</td>\n",
       "      <td>0.0</td>\n",
       "      <td>15.0</td>\n",
       "      <td>0.0</td>\n",
       "      <td>27783.0</td>\n",
       "      <td>53.9</td>\n",
       "      <td>38.0</td>\n",
       "      <td>f</td>\n",
       "      <td>766.9</td>\n",
       "      <td>766.9</td>\n",
       "      <td>3242.170000</td>\n",
       "      <td>3242.17</td>\n",
       "      <td>2233.10</td>\n",
       "      <td>1009.07</td>\n",
       "      <td>Jan-2016</td>\n",
       "      <td>67.79</td>\n",
       "      <td>Jan-2016</td>\n",
       "      <td>0.0</td>\n",
       "      <td>0.0</td>\n",
       "      <td>0.0</td>\n",
       "      <td>80559.0</td>\n",
       "      <td>23700.0</td>\n",
       "      <td>0</td>\n",
       "    </tr>\n",
       "  </tbody>\n",
       "</table>\n",
       "</div>"
      ],
      "text/plain": [
       "   loan_amnt  funded_amnt  funded_amnt_inv        term  int_rate  installment  \\\n",
       "0     5000.0       5000.0           4975.0   36 months     10.65       162.87   \n",
       "1     2500.0       2500.0           2500.0   60 months     15.27        59.83   \n",
       "2     2400.0       2400.0           2400.0   36 months     15.96        84.33   \n",
       "3    10000.0      10000.0          10000.0   36 months     13.49       339.31   \n",
       "4     3000.0       3000.0           3000.0   60 months     12.69        67.79   \n",
       "\n",
       "  grade sub_grade emp_length home_ownership  annual_inc verification_status  \\\n",
       "0     B        B2  10+ years           RENT     24000.0            Verified   \n",
       "1     C        C4   < 1 year           RENT     30000.0     Source Verified   \n",
       "2     C        C5  10+ years           RENT     12252.0        Not Verified   \n",
       "3     C        C1  10+ years           RENT     49200.0     Source Verified   \n",
       "4     B        B5     1 year           RENT     80000.0     Source Verified   \n",
       "\n",
       "    issue_d         purpose    dti  delinq_2yrs earliest_cr_line  \\\n",
       "0  Dec-2011     credit_card  27.65          0.0         Jan-1985   \n",
       "1  Dec-2011             car   1.00          0.0         Apr-1999   \n",
       "2  Dec-2011  small_business   8.72          0.0         Nov-2001   \n",
       "3  Dec-2011           other  20.00          0.0         Feb-1996   \n",
       "4  Dec-2011           other  17.94          0.0         Jan-1996   \n",
       "\n",
       "   inq_last_6mths  open_acc  pub_rec  revol_bal  revol_util  total_acc  \\\n",
       "0             1.0       3.0      0.0    13648.0        83.7        9.0   \n",
       "1             5.0       3.0      0.0     1687.0         9.4        4.0   \n",
       "2             2.0       2.0      0.0     2956.0        98.5       10.0   \n",
       "3             1.0      10.0      0.0     5598.0        21.0       37.0   \n",
       "4             0.0      15.0      0.0    27783.0        53.9       38.0   \n",
       "\n",
       "  initial_list_status  out_prncp  out_prncp_inv   total_pymnt  \\\n",
       "0                   f        0.0            0.0   5861.071414   \n",
       "1                   f        0.0            0.0   1008.710000   \n",
       "2                   f        0.0            0.0   3003.653644   \n",
       "3                   f        0.0            0.0  12226.302212   \n",
       "4                   f      766.9          766.9   3242.170000   \n",
       "\n",
       "   total_pymnt_inv  total_rec_prncp  total_rec_int last_pymnt_d  \\\n",
       "0          5831.78          5000.00         861.07     Jan-2015   \n",
       "1          1008.71           456.46         435.17     Apr-2013   \n",
       "2          3003.65          2400.00         603.65     Jun-2014   \n",
       "3         12226.30         10000.00        2209.33     Jan-2015   \n",
       "4          3242.17          2233.10        1009.07     Jan-2016   \n",
       "\n",
       "   last_pymnt_amnt last_credit_pull_d  collections_12_mths_ex_med  \\\n",
       "0           171.62           Jan-2016                         0.0   \n",
       "1           119.66           Sep-2013                         0.0   \n",
       "2           649.91           Jan-2016                         0.0   \n",
       "3           357.48           Jan-2015                         0.0   \n",
       "4            67.79           Jan-2016                         0.0   \n",
       "\n",
       "   acc_now_delinq  tot_coll_amt  tot_cur_bal  total_rev_hi_lim  \\\n",
       "0             0.0           0.0      80559.0           23700.0   \n",
       "1             0.0           0.0      80559.0           23700.0   \n",
       "2             0.0           0.0      80559.0           23700.0   \n",
       "3             0.0           0.0      80559.0           23700.0   \n",
       "4             0.0           0.0      80559.0           23700.0   \n",
       "\n",
       "   loan_status_class  \n",
       "0                  0  \n",
       "1                  1  \n",
       "2                  0  \n",
       "3                  0  \n",
       "4                  0  "
      ]
     },
     "execution_count": 33,
     "metadata": {},
     "output_type": "execute_result"
    }
   ],
   "source": [
    "df.head(5)"
   ]
  },
  {
   "cell_type": "markdown",
   "metadata": {},
   "source": [
    "## 类别标签"
   ]
  },
  {
   "cell_type": "code",
   "execution_count": 34,
   "metadata": {
    "ExecuteTime": {
     "end_time": "2020-12-08T11:59:44.314857Z",
     "start_time": "2020-12-08T11:59:44.231870Z"
    }
   },
   "outputs": [
    {
     "data": {
      "text/plain": [
       "['term',\n",
       " 'grade',\n",
       " 'sub_grade',\n",
       " 'emp_length',\n",
       " 'home_ownership',\n",
       " 'verification_status',\n",
       " 'issue_d',\n",
       " 'purpose',\n",
       " 'earliest_cr_line',\n",
       " 'initial_list_status',\n",
       " 'last_pymnt_d',\n",
       " 'last_credit_pull_d']"
      ]
     },
     "execution_count": 34,
     "metadata": {},
     "output_type": "execute_result"
    }
   ],
   "source": [
    "#object型\n",
    "numerical_fea = list(df.select_dtypes(exclude=['object']).columns)\n",
    "category_fea = list(filter(lambda x: x not in numerical_fea,list(df.columns)))\n",
    "category_fea"
   ]
  },
  {
   "cell_type": "code",
   "execution_count": 35,
   "metadata": {
    "ExecuteTime": {
     "end_time": "2020-12-08T11:59:47.749786Z",
     "start_time": "2020-12-08T11:59:44.316323Z"
    }
   },
   "outputs": [],
   "source": [
    "df_list={\n",
    "    \"term\":{\" 36 months\":1,\" 60 months\":2},\n",
    "    \"grade\":{\"A\":1,\"B\":2,\"C\":3,\"D\":4,\"E\":5,\"F\":6,\"G\":7},\n",
    "    \"sub_grade\":{\"A1\":1,\"A2\":2,\"A3\":3,\"A4\":4,\"A5\":5,\"B1\":6,\"B2\":7,\"B3\":8,\"B4\":9,\"B5\":10,\n",
    "                 \"C1\":11,\"C2\":12,\"C3\":13,\"C4\":14,\"C5\":15,\"D1\":16,\"D2\":17,\"D3\":18,\"D4\":19,\"D5\":20,\n",
    "                 \"E1\":21,\"E2\":22,\"E3\":23,\"E4\":24,\"E5\":25,\"F1\":26,\"F2\":27,\"F3\":28,\"F4\":29,\"F5\":30,\n",
    "                 \"G1\":31,\"G2\":32,\"G3\":33,\"G4\":34,\"G5\":35},\n",
    "    \"emp_length\":{'1 year':1,'2 years':2,'3 years':3,'4 years':4,'5 years':5,'6 years':6,'7 years':7,'8 years':8,'9 years':9,'10+ years':10,'< 1 year':0},\n",
    "    \"home_ownership\":{\"MORTGAGE\":1,\"RENT\":2,\"OWN\":3,\"OTHER\":4,\"NONE\":5,\"ANY\":6 },\n",
    "    \"verification_status\":{\"Source Verified\":1,\"Verified\":2,\"Not Verified\":3},\n",
    "    \"loan_status\":{'Current':0,'Fully Paid':0,'Charged Off':1,'Late (31-120 days)':1,'Late (16-30 days)':1,'In Grace Period':1,\"Default\":1},\n",
    "    \"purpose\":{\"debt_consolidation\":1,\"credit_card\":2,\"home_improvement\":3,\"other\":4,\"major_purchase\":5,\"medical\":6,\"car\":7,\n",
    "               \"small_business\":8,\"moving\":9,\"vacation\":10,\"house\":11,\"renewable_energy\":12,\"wedding\":13,\"educational\":14},\n",
    "    \"initial_list_status\":{\"w\":1,\"f\":2}\n",
    "}\n",
    "df=df.replace(df_list)#映射"
   ]
  },
  {
   "cell_type": "markdown",
   "metadata": {},
   "source": [
    "## 特征衍生"
   ]
  },
  {
   "cell_type": "code",
   "execution_count": 36,
   "metadata": {
    "ExecuteTime": {
     "end_time": "2020-12-08T11:59:48.254885Z",
     "start_time": "2020-12-08T11:59:47.750740Z"
    }
   },
   "outputs": [],
   "source": [
    "#把'annual_inc'年收入除以\"installment\" 月收入得到的比，值越大客户还款压力越小\n",
    "df[\"installment_feat\"]=df[\"annual_inc\"] / (df[\"installment\"])\n",
    "\n",
    "#把时序变量变成月份值，用借款发放时间 - 首次使用信用卡时间，作为一个新变量，表示信用历史\n",
    "a=(pd.to_datetime(df['issue_d'])-pd.to_datetime(df['earliest_cr_line']))/30\n",
    "df[\"cre_hist\"]=a.astype('timedelta64[D]').astype(int)\n",
    "df.drop([\"issue_d\",\"earliest_cr_line\",\"last_pymnt_d\",\"last_credit_pull_d\"],axis=1,inplace=True)"
   ]
  },
  {
   "cell_type": "markdown",
   "metadata": {},
   "source": [
    "## 连续变量分箱"
   ]
  },
  {
   "cell_type": "code",
   "execution_count": null,
   "metadata": {
    "ExecuteTime": {
     "end_time": "2020-12-08T11:59:48.733149Z",
     "start_time": "2020-12-08T11:59:48.255861Z"
    }
   },
   "outputs": [],
   "source": [
    "df.nunique()"
   ]
  },
  {
   "cell_type": "code",
   "execution_count": 38,
   "metadata": {
    "ExecuteTime": {
     "end_time": "2020-12-08T11:59:49.177690Z",
     "start_time": "2020-12-08T11:59:48.734102Z"
    }
   },
   "outputs": [],
   "source": [
    "from sklearn.tree import  DecisionTreeClassifier\n",
    "def optimal_binning_boundary(x: pd.Series, y: pd.Series, nan: float = -999.) -> list:\n",
    "    '''\n",
    "        利用决策树获得最优分箱的边界值列表\n",
    "    '''\n",
    "    boundary = []  # 待return的分箱边界值列表\n",
    "    \n",
    "    x = x.fillna(nan).values  # 填充缺失值\n",
    "    y = y.values\n",
    "    \n",
    "    clf = DecisionTreeClassifier(criterion='entropy',    #“信息熵”最小化准则划分\n",
    "                                 max_leaf_nodes=6,       # 最大叶子节点数\n",
    "                                 min_samples_leaf=0.05)  # 叶子节点样本数量最小占比\n",
    "\n",
    "    clf.fit(x.reshape(-1, 1), y)  # 训练决策树\n",
    "    \n",
    "    n_nodes = clf.tree_.node_count\n",
    "    children_left = clf.tree_.children_left\n",
    "    children_right = clf.tree_.children_right\n",
    "    threshold = clf.tree_.threshold\n",
    "    \n",
    "    for i in range(n_nodes):\n",
    "        if children_left[i] != children_right[i]:  # 获得决策树节点上的划分边界值\n",
    "            boundary.append(threshold[i])\n",
    "\n",
    "    boundary.sort()\n",
    "\n",
    "    min_x = x.min()\n",
    "    max_x = x.max() + 0.1  # +0.1是为了考虑后续groupby操作时，能包含特征最大值的样本\n",
    "    boundary = [min_x] + boundary + [max_x]\n",
    "\n",
    "    return boundary"
   ]
  },
  {
   "cell_type": "code",
   "execution_count": 39,
   "metadata": {
    "ExecuteTime": {
     "end_time": "2020-12-08T11:59:49.559878Z",
     "start_time": "2020-12-08T11:59:49.178672Z"
    }
   },
   "outputs": [
    {
     "data": {
      "text/plain": [
       "[500.0, 14987.5, 15037.5, 19962.5, 20037.5, 23937.5, 35000.1]"
      ]
     },
     "execution_count": 39,
     "metadata": {},
     "output_type": "execute_result"
    }
   ],
   "source": [
    "optimal_binning_boundary(x=df['loan_amnt'],\n",
    "                         y=df['loan_status_class'])"
   ]
  },
  {
   "cell_type": "code",
   "execution_count": 40,
   "metadata": {
    "ExecuteTime": {
     "end_time": "2020-12-08T11:59:49.568634Z",
     "start_time": "2020-12-08T11:59:49.560837Z"
    }
   },
   "outputs": [],
   "source": [
    "def feature_woe_iv(x: pd.Series, y: pd.Series, nan: float = -999.) -> pd.DataFrame:\n",
    "    '''\n",
    "        计算变量各个分箱的WOE、IV值，返回一个DataFrame\n",
    "    '''\n",
    "    x = x.fillna(nan)\n",
    "    boundary = optimal_binning_boundary(x, y, nan)        # 获得最优分箱边界值列表\n",
    "    df = pd.concat([x, y], axis=1)                        # 合并x、y为一个DataFrame，方便后续计算\n",
    "    df.columns = ['x', 'y']                               # 特征变量、目标变量字段的重命名\n",
    "    df['bins'] = pd.cut(x=x, bins=boundary, right=False)  # 获得每个x值所在的分箱区间\n",
    "    \n",
    "    grouped = df.groupby('bins')['y']                     # 统计各分箱区间的好、坏、总客户数量\n",
    "    result_df = grouped.agg([('good',  lambda y: (y == 0).sum()), \n",
    "                             ('bad',   lambda y: (y == 1).sum()),\n",
    "                             ('total', 'count')])\n",
    "\n",
    "    result_df['good_pct'] = result_df['good'] / result_df['good'].sum()       # 好客户占比\n",
    "    result_df['bad_pct'] = result_df['bad'] / result_df['bad'].sum()          # 坏客户占比\n",
    "    result_df['total_pct'] = result_df['total'] / result_df['total'].sum()    # 总客户占比\n",
    "\n",
    "    result_df['bad_rate'] = result_df['bad'] / result_df['total']             # 坏比率\n",
    "    \n",
    "    result_df['woe'] = np.log(result_df['good_pct'] / result_df['bad_pct'])              # WOE\n",
    "    result_df['iv'] = (result_df['good_pct'] - result_df['bad_pct']) * result_df['woe']  # IV\n",
    "       \n",
    "    woebins_dict = {}\n",
    "    for i in result_df.index:\n",
    "        woebins_dict[i] = result_df.at[i, 'woe']\n",
    "    #print(f\"变量IV = {result_df['iv'].sum()}\")    \n",
    "    \n",
    "    #return result_df\n",
    "    return woebins_dict"
   ]
  },
  {
   "cell_type": "code",
   "execution_count": 41,
   "metadata": {
    "ExecuteTime": {
     "end_time": "2020-12-08T11:59:49.729246Z",
     "start_time": "2020-12-08T11:59:49.569611Z"
    }
   },
   "outputs": [
    {
     "data": {
      "text/plain": [
       "{Interval(1.0, 1.5, closed='left'): 0.10214710644986717,\n",
       " Interval(1.5, 2.1, closed='left'): -0.2088306988593636}"
      ]
     },
     "execution_count": 41,
     "metadata": {},
     "output_type": "execute_result"
    }
   ],
   "source": [
    "feature_woe_iv(x=df['term'], \n",
    "               y=df['loan_status_class'])"
   ]
  },
  {
   "cell_type": "code",
   "execution_count": 42,
   "metadata": {
    "ExecuteTime": {
     "end_time": "2020-12-08T11:59:58.832288Z",
     "start_time": "2020-12-08T11:59:49.730223Z"
    }
   },
   "outputs": [],
   "source": [
    "#通过决策树得到所有切分点，并转换成字典\n",
    "num_box=[\"loan_amnt\",\"funded_amnt\",\"funded_amnt_inv\",\"installment\",\"annual_inc\",\"revol_bal\",\n",
    "         \"out_prncp\",\"out_prncp_inv\",\"total_pymnt\",\"total_pymnt_inv\",\"total_rec_prncp\",\"total_rec_int\",\n",
    "         \"last_pymnt_amnt\",\"tot_coll_amt\",\"tot_cur_bal\",\"total_rev_hi_lim\"\n",
    "         ,\"installment_feat\"]\n",
    "cut_list=[optimal_binning_boundary(x=df['loan_amnt'],y=df['loan_status_class']),\n",
    "         optimal_binning_boundary(x=df['funded_amnt'],y=df['loan_status_class']),\n",
    "         optimal_binning_boundary(x=df['funded_amnt_inv'],y=df['loan_status_class']),\n",
    "         optimal_binning_boundary(x=df['installment'],y=df['loan_status_class']),\n",
    "         optimal_binning_boundary(x=df['annual_inc'],y=df['loan_status_class']),\n",
    "         optimal_binning_boundary(x=df['revol_bal'],y=df['loan_status_class']),\n",
    "         optimal_binning_boundary(x=df['out_prncp'],y=df['loan_status_class']),\n",
    "         optimal_binning_boundary(x=df['out_prncp_inv'],y=df['loan_status_class']),\n",
    "         optimal_binning_boundary(x=df['total_pymnt'],y=df['loan_status_class']),\n",
    "         optimal_binning_boundary(x=df['total_pymnt_inv'],y=df['loan_status_class']),\n",
    "         optimal_binning_boundary(x=df['total_rec_prncp'],y=df['loan_status_class']),\n",
    "         optimal_binning_boundary(x=df['total_rec_int'],y=df['loan_status_class']),\n",
    "         optimal_binning_boundary(x=df['last_pymnt_amnt'],y=df['loan_status_class']),\n",
    "         optimal_binning_boundary(x=df['tot_coll_amt'],y=df['loan_status_class']),\n",
    "         optimal_binning_boundary(x=df['tot_cur_bal'],y=df['loan_status_class']),\n",
    "         optimal_binning_boundary(x=df['total_rev_hi_lim'],y=df['loan_status_class']),\n",
    "         optimal_binning_boundary(x=df['installment_feat'],y=df['loan_status_class'])]\n",
    "cut_dict={}\n",
    "for i in range(len(num_box)):\n",
    "    cut_dict[num_box[i]]=cut_list[i]"
   ]
  },
  {
   "cell_type": "code",
   "execution_count": 43,
   "metadata": {
    "ExecuteTime": {
     "end_time": "2020-12-08T11:59:58.837144Z",
     "start_time": "2020-12-08T11:59:58.833240Z"
    }
   },
   "outputs": [],
   "source": [
    "#采用pd.cut()划分数据\n",
    "def box_col_to_df(to_box,col,num_b):#数据集    需要转换的数据列   切割点LISI\n",
    "    bins=[-100.0]+num_b+[1000000000.0] #因为pd.cun()是封闭的，这里把bins的上下区间扩大\n",
    "    to_box[col]=pd.cut(to_box[col],bins=bins,include_lowest=True,labels=range(len(bins)-1))"
   ]
  },
  {
   "cell_type": "code",
   "execution_count": 44,
   "metadata": {
    "ExecuteTime": {
     "end_time": "2020-12-08T12:00:00.043501Z",
     "start_time": "2020-12-08T11:59:58.838119Z"
    }
   },
   "outputs": [],
   "source": [
    "for i in num_box:\n",
    "    box_col_to_df(df,i,cut_dict[i])"
   ]
  },
  {
   "cell_type": "markdown",
   "metadata": {},
   "source": [
    "## 特征选择"
   ]
  },
  {
   "cell_type": "code",
   "execution_count": null,
   "metadata": {
    "ExecuteTime": {
     "end_time": "2020-12-08T12:00:00.301163Z",
     "start_time": "2020-12-08T12:00:00.044475Z"
    }
   },
   "outputs": [],
   "source": [
    "df.nunique()"
   ]
  },
  {
   "cell_type": "code",
   "execution_count": 46,
   "metadata": {
    "ExecuteTime": {
     "end_time": "2020-12-08T12:01:16.887579Z",
     "start_time": "2020-12-08T12:00:00.302150Z"
    }
   },
   "outputs": [
    {
     "name": "stdout",
     "output_type": "stream",
     "text": [
      "iv for loan_amnt is 0.006392: \n",
      "iv for funded_amnt is 0.006686: \n",
      "iv for funded_amnt_inv is 0.007372: \n",
      "iv for term is 0.021294: \n",
      "iv for int_rate is 0.859460: \n",
      "iv for installment is 0.010515: \n",
      "iv for grade is 0.326454: \n",
      "iv for sub_grade is 0.355139: \n",
      "iv for emp_length is 0.006228: \n",
      "iv for home_ownership is 0.020843: \n",
      "iv for annual_inc is 0.045875: \n",
      "iv for verification_status is 0.032700: \n",
      "iv for purpose is 0.045312: \n",
      "iv for dti is 0.078230: \n",
      "iv for delinq_2yrs is 0.000548: \n",
      "iv for inq_last_6mths is 0.081880: \n",
      "iv for open_acc is 0.005933: \n",
      "iv for pub_rec is 0.003427: \n",
      "iv for revol_bal is 0.011682: \n",
      "iv for revol_util is 0.060688: \n",
      "iv for total_acc is 0.008864: \n",
      "iv for initial_list_status is 0.115417: \n",
      "iv for out_prncp is 0.785186: \n",
      "iv for out_prncp_inv is 0.785121: \n",
      "iv for total_pymnt is 0.137334: \n",
      "iv for total_pymnt_inv is 0.127388: \n",
      "iv for total_rec_prncp is 0.296292: \n",
      "iv for total_rec_int is 0.112228: \n",
      "iv for last_pymnt_amnt is 0.761615: \n",
      "iv for collections_12_mths_ex_med is 0.000809: \n",
      "iv for acc_now_delinq is 0.000032: \n",
      "iv for tot_coll_amt is 0.005781: \n",
      "iv for tot_cur_bal is 0.107166: \n",
      "iv for total_rev_hi_lim is 0.126183: \n",
      "iv for loan_status_class is 0.000000: \n",
      "iv for installment_feat is 0.068891: \n",
      "iv for cre_hist is 0.053341: \n"
     ]
    }
   ],
   "source": [
    "for i in df.columns:\n",
    "    cal_iv(df,i,'loan_status_class')"
   ]
  },
  {
   "cell_type": "code",
   "execution_count": 47,
   "metadata": {
    "ExecuteTime": {
     "end_time": "2020-12-08T12:01:16.892486Z",
     "start_time": "2020-12-08T12:01:16.888578Z"
    }
   },
   "outputs": [
    {
     "name": "stdout",
     "output_type": "stream",
     "text": [
      "[('int_rate', 0.8594596700127364), ('out_prncp', 0.7851858541707795), ('out_prncp_inv', 0.7851209804825243), ('last_pymnt_amnt', 0.7616152705086773), ('sub_grade', 0.3551388751802136), ('grade', 0.32645358998897817), ('total_rec_prncp', 0.2962923108777153), ('total_pymnt', 0.13733415076715974), ('total_pymnt_inv', 0.127388239380143), ('total_rev_hi_lim', 0.12618344524374447), ('initial_list_status', 0.11541677705709426), ('total_rec_int', 0.11222752982229936), ('tot_cur_bal', 0.10716571616783443), ('inq_last_6mths', 0.08188032796094964), ('dti', 0.07822988350533532), ('installment_feat', 0.06889136669777715), ('revol_util', 0.060688036558296306), ('cre_hist', 0.05334075161071471), ('annual_inc', 0.04587521556762516), ('purpose', 0.04531168920103845), ('verification_status', 0.032700479353378435), ('term', 0.02129362025824666), ('home_ownership', 0.020842769801290722), ('revol_bal', 0.011682174385265278), ('installment', 0.01051514777260709), ('total_acc', 0.008863911752921023), ('funded_amnt_inv', 0.0073716952860641985), ('funded_amnt', 0.006686002318717819), ('loan_amnt', 0.00639152259323046), ('emp_length', 0.006228389668998908), ('open_acc', 0.005932618854797197), ('tot_coll_amt', 0.0057814396281713875), ('pub_rec', 0.0034272277172873295), ('collections_12_mths_ex_med', 0.0008093379511740719), ('delinq_2yrs', 0.0005476693020032006), ('acc_now_delinq', 3.206762832150088e-05), ('loan_status_class', 0.0)]\n"
     ]
    }
   ],
   "source": [
    "print(sorted(iv_dict.items(), key = lambda kv:(kv[1], kv[0]),reverse = True))     "
   ]
  },
  {
   "cell_type": "code",
   "execution_count": 48,
   "metadata": {
    "ExecuteTime": {
     "end_time": "2020-12-08T12:01:16.961039Z",
     "start_time": "2020-12-08T12:01:16.893435Z"
    }
   },
   "outputs": [],
   "source": [
    "#删除iv小于0.01的特征\n",
    "df_drop=df[['total_acc','funded_amnt_inv','funded_amnt','loan_amnt','emp_length','open_acc','tot_coll_amt','pub_rec',\n",
    "            'collections_12_mths_ex_med','delinq_2yrs','acc_now_delinq']]\n",
    "df=df.drop(df_drop,axis=1)"
   ]
  },
  {
   "cell_type": "code",
   "execution_count": 49,
   "metadata": {
    "ExecuteTime": {
     "end_time": "2020-12-08T12:01:25.086675Z",
     "start_time": "2020-12-08T12:01:16.962015Z"
    }
   },
   "outputs": [
    {
     "name": "stdout",
     "output_type": "stream",
     "text": [
      "('term', 0.0054573676173228)\n",
      "('int_rate', 0.007124024610948595)\n",
      "('installment', 0.004860558984554881)\n",
      "('grade', 0.0054283602962035245)\n",
      "('sub_grade', 0.0012948390247806668)\n",
      "('home_ownership', 0.0002530514024278102)\n",
      "('annual_inc', 0.001451422382513095)\n",
      "('verification_status', 0.00028467497561802013)\n",
      "('purpose', 0.0008784268767734991)\n",
      "('dti', 0.0015607805487529963)\n",
      "('inq_last_6mths', 0.0004161870981278525)\n",
      "('revol_bal', 0.000666380230291782)\n",
      "('revol_util', 0.0014491145381476647)\n",
      "('initial_list_status', 0.0011387309213303678)\n",
      "('out_prncp', 0.008444128443434031)\n",
      "('out_prncp_inv', 0.04337551926801978)\n",
      "('total_pymnt', 0.0023164516469845525)\n",
      "('total_pymnt_inv', 0.00886854611670776)\n",
      "('total_rec_prncp', 0.07266715669978313)\n",
      "('total_rec_int', 0.006966238139382424)\n",
      "('last_pymnt_amnt', 0.02000337022123668)\n",
      "('tot_cur_bal', 0.0006486763317296108)\n",
      "('total_rev_hi_lim', 0.0012383159072102783)\n",
      "('loan_status_class', 0.796919054588326)\n",
      "('installment_feat', 0.004949333531018935)\n",
      "('cre_hist', 0.0013392895983732208)\n"
     ]
    }
   ],
   "source": [
    "#随机森林算法判定特征的重要性\n",
    "names = df.columns\n",
    "from sklearn.ensemble import RandomForestClassifier\n",
    "clf=RandomForestClassifier(n_estimators=10,random_state=123)#构建分类随机森林分类器\n",
    "clf.fit(df,df['loan_status_class']) #对自变量和因变量进行拟合\n",
    "names, clf.feature_importances_\n",
    "for feature in zip(names, clf.feature_importances_):\n",
    "    print(feature)"
   ]
  },
  {
   "cell_type": "code",
   "execution_count": 50,
   "metadata": {
    "ExecuteTime": {
     "end_time": "2020-12-08T12:01:25.091563Z",
     "start_time": "2020-12-08T12:01:25.087643Z"
    }
   },
   "outputs": [
    {
     "name": "stdout",
     "output_type": "stream",
     "text": [
      "[('loan_status_class', 0.796919054588326), ('total_rec_prncp', 0.07266715669978313), ('out_prncp_inv', 0.04337551926801978), ('last_pymnt_amnt', 0.02000337022123668), ('total_pymnt_inv', 0.00886854611670776), ('out_prncp', 0.008444128443434031), ('int_rate', 0.007124024610948595), ('total_rec_int', 0.006966238139382424), ('term', 0.0054573676173228), ('grade', 0.0054283602962035245), ('installment_feat', 0.004949333531018935), ('installment', 0.004860558984554881), ('total_pymnt', 0.0023164516469845525), ('dti', 0.0015607805487529963), ('annual_inc', 0.001451422382513095), ('revol_util', 0.0014491145381476647), ('cre_hist', 0.0013392895983732208), ('sub_grade', 0.0012948390247806668), ('total_rev_hi_lim', 0.0012383159072102783), ('initial_list_status', 0.0011387309213303678), ('purpose', 0.0008784268767734991), ('revol_bal', 0.000666380230291782), ('tot_cur_bal', 0.0006486763317296108), ('inq_last_6mths', 0.0004161870981278525), ('verification_status', 0.00028467497561802013), ('home_ownership', 0.0002530514024278102)]\n"
     ]
    }
   ],
   "source": [
    "print(sorted(zip(names, clf.feature_importances_), key = lambda kv:(kv[1], kv[0]),reverse = True))    "
   ]
  },
  {
   "cell_type": "code",
   "execution_count": 51,
   "metadata": {
    "ExecuteTime": {
     "end_time": "2020-12-08T12:01:25.137953Z",
     "start_time": "2020-12-08T12:01:25.092502Z"
    }
   },
   "outputs": [],
   "source": [
    "df_drop=df[['purpose','revol_bal','tot_cur_bal','inq_last_6mths','verification_status','home_ownership']]\n",
    "df=df.drop(df_drop,axis=1)"
   ]
  },
  {
   "cell_type": "code",
   "execution_count": 52,
   "metadata": {
    "ExecuteTime": {
     "end_time": "2020-12-08T12:01:25.190656Z",
     "start_time": "2020-12-08T12:01:25.138929Z"
    }
   },
   "outputs": [
    {
     "name": "stdout",
     "output_type": "stream",
     "text": [
      "<class 'pandas.core.frame.DataFrame'>\n",
      "RangeIndex: 887379 entries, 0 to 887378\n",
      "Data columns (total 20 columns):\n",
      " #   Column               Non-Null Count   Dtype   \n",
      "---  ------               --------------   -----   \n",
      " 0   term                 887379 non-null  int64   \n",
      " 1   int_rate             887379 non-null  float64 \n",
      " 2   installment          887379 non-null  category\n",
      " 3   grade                887379 non-null  int64   \n",
      " 4   sub_grade            887379 non-null  int64   \n",
      " 5   annual_inc           887379 non-null  category\n",
      " 6   dti                  887379 non-null  float64 \n",
      " 7   revol_util           887379 non-null  float64 \n",
      " 8   initial_list_status  887379 non-null  int64   \n",
      " 9   out_prncp            887379 non-null  category\n",
      " 10  out_prncp_inv        887379 non-null  category\n",
      " 11  total_pymnt          887379 non-null  category\n",
      " 12  total_pymnt_inv      887379 non-null  category\n",
      " 13  total_rec_prncp      887379 non-null  category\n",
      " 14  total_rec_int        887379 non-null  category\n",
      " 15  last_pymnt_amnt      887379 non-null  category\n",
      " 16  total_rev_hi_lim     887379 non-null  category\n",
      " 17  loan_status_class    887379 non-null  int64   \n",
      " 18  installment_feat     887379 non-null  category\n",
      " 19  cre_hist             887379 non-null  int32   \n",
      "dtypes: category(11), float64(3), int32(1), int64(5)\n",
      "memory usage: 66.9 MB\n"
     ]
    }
   ],
   "source": [
    "df.info()"
   ]
  },
  {
   "cell_type": "code",
   "execution_count": 53,
   "metadata": {
    "ExecuteTime": {
     "end_time": "2020-12-08T12:01:25.435634Z",
     "start_time": "2020-12-08T12:01:25.191633Z"
    }
   },
   "outputs": [],
   "source": [
    "for i in df.columns:\n",
    "    df[i] = df[i].astype('float')"
   ]
  },
  {
   "cell_type": "code",
   "execution_count": 54,
   "metadata": {
    "ExecuteTime": {
     "end_time": "2020-12-08T12:01:27.498825Z",
     "start_time": "2020-12-08T12:01:25.436609Z"
    }
   },
   "outputs": [
    {
     "data": {
      "text/plain": [
       "<AxesSubplot:title={'center':'Pearson Correlation of Features'}>"
      ]
     },
     "execution_count": 54,
     "metadata": {},
     "output_type": "execute_result"
    },
    {
     "data": {
      "image/png": "[encoded data removed]",
      "text/plain": [
       "<Figure size 864x864 with 2 Axes>"
      ]
     },
     "metadata": {
      "needs_background": "light"
     },
     "output_type": "display_data"
    }
   ],
   "source": [
    "#用热力图看看相关性\n",
    "colormap = plt.cm.viridis\n",
    "plt.figure(figsize=(12,12))\n",
    "plt.title('Pearson Correlation of Features', y=1.05, size=15)\n",
    "sns.heatmap(df.corr(),linewidths=0.1,vmax=1.0, square=True, cmap=colormap, linecolor='white', annot=True)"
   ]
  },
  {
   "cell_type": "code",
   "execution_count": 55,
   "metadata": {
    "ExecuteTime": {
     "end_time": "2020-12-08T12:01:27.670624Z",
     "start_time": "2020-12-08T12:01:27.499800Z"
    }
   },
   "outputs": [],
   "source": [
    "#删除高相关性特征\n",
    "df_drop=df[['int_rate','grade','out_prncp_inv','total_pymnt_inv','total_pymnt']]\n",
    "df=df.drop(df_drop,axis=1)"
   ]
  },
  {
   "cell_type": "code",
   "execution_count": 56,
   "metadata": {
    "ExecuteTime": {
     "end_time": "2020-12-08T12:01:28.815645Z",
     "start_time": "2020-12-08T12:01:27.671576Z"
    }
   },
   "outputs": [
    {
     "data": {
      "text/plain": [
       "<AxesSubplot:title={'center':'Pearson Correlation of Features'}>"
      ]
     },
     "execution_count": 56,
     "metadata": {},
     "output_type": "execute_result"
    },
    {
     "data": {
      "image/png": "[encoded data removed]",
      "text/plain": [
       "<Figure size 864x864 with 2 Axes>"
      ]
     },
     "metadata": {
      "needs_background": "light"
     },
     "output_type": "display_data"
    }
   ],
   "source": [
    "#用热力图看看相关性\n",
    "colormap = plt.cm.viridis\n",
    "plt.figure(figsize=(12,12))\n",
    "plt.title('Pearson Correlation of Features', y=1.05, size=15)\n",
    "sns.heatmap(df.corr(),linewidths=0.1,vmax=1.0, square=True, cmap=colormap, linecolor='white', annot=True)"
   ]
  },
  {
   "cell_type": "markdown",
   "metadata": {},
   "source": [
    "# 建模调参"
   ]
  },
  {
   "cell_type": "markdown",
   "metadata": {},
   "source": [
    "## 训练测试分割"
   ]
  },
  {
   "cell_type": "code",
   "execution_count": 58,
   "metadata": {
    "ExecuteTime": {
     "end_time": "2020-12-08T12:02:11.820382Z",
     "start_time": "2020-12-08T12:02:08.955344Z"
    }
   },
   "outputs": [],
   "source": [
    "from sklearn.model_selection import train_test_split \n",
    "data_x, test_x, data_y, test_y = train_test_split(  \n",
    "    df.drop(['loan_status_class'],axis=1),  \n",
    "    df[['loan_status_class']].copy(),  \n",
    "    test_size=0.25,  \n",
    "    random_state=1991,  \n",
    "    stratify=df[['loan_status_class']].copy()\n",
    ") "
   ]
  },
  {
   "cell_type": "markdown",
   "metadata": {},
   "source": [
    "## 训练模型"
   ]
  },
  {
   "cell_type": "code",
   "execution_count": 59,
   "metadata": {
    "ExecuteTime": {
     "end_time": "2020-12-08T12:02:11.825243Z",
     "start_time": "2020-12-08T12:02:11.821371Z"
    }
   },
   "outputs": [],
   "source": [
    "#利用交叉验证和网格搜索\n",
    "from sklearn.model_selection import GridSearchCV  #网格搜索\n",
    "from sklearn.linear_model import LogisticRegression # 逻辑回归\n",
    "from sklearn.model_selection import train_test_split # 测试集与训练集划分"
   ]
  },
  {
   "cell_type": "code",
   "execution_count": 65,
   "metadata": {
    "ExecuteTime": {
     "end_time": "2020-12-08T13:48:51.604578Z",
     "start_time": "2020-12-08T12:02:38.343373Z"
    }
   },
   "outputs": [
    {
     "data": {
      "text/plain": [
       "GridSearchCV(cv=10, estimator=LogisticRegression(),\n",
       "             param_grid={'C': [0.01, 0.1, 1.0, 10.0, 20.0, 30.0, 100.0, 200.0,\n",
       "                               300.0, 1000.0],\n",
       "                         'max_iter': [100, 200, 300, 400, 500],\n",
       "                         'penalty': ['l1', 'l2']})"
      ]
     },
     "execution_count": 65,
     "metadata": {},
     "output_type": "execute_result"
    }
   ],
   "source": [
    "#构建网格参数组合\n",
    "param_test1={\"C\":[0.01,0.1,1.0,10.0,20.0,30.0,100.0,200.0,300.0,1000.0], #正则化系数\n",
    "            \"penalty\":[\"l1\",\"l2\"], #正则化参数\n",
    "            \"max_iter\":[100,200,300,400,500]} #算法收敛的最大迭代次数\n",
    "gsearch1=GridSearchCV(LogisticRegression(),param_grid=param_test1,cv=10)\n",
    "gsearch1.fit(data_x,data_y)  #训练模型"
   ]
  },
  {
   "cell_type": "code",
   "execution_count": 66,
   "metadata": {
    "ExecuteTime": {
     "end_time": "2020-12-08T13:48:56.225222Z",
     "start_time": "2020-12-08T13:48:51.606573Z"
    }
   },
   "outputs": [
    {
     "data": {
      "text/plain": [
       "LogisticRegression(C=0.01)"
      ]
     },
     "execution_count": 66,
     "metadata": {},
     "output_type": "execute_result"
    }
   ],
   "source": [
    "flt= LogisticRegression(penalty='l2',C=0.01)\n",
    "flt.fit(data_x,data_y)"
   ]
  },
  {
   "cell_type": "code",
   "execution_count": 70,
   "metadata": {
    "ExecuteTime": {
     "end_time": "2020-12-08T14:35:57.648601Z",
     "start_time": "2020-12-08T14:35:57.578788Z"
    }
   },
   "outputs": [
    {
     "name": "stdout",
     "output_type": "stream",
     "text": [
      "auc:0.9313034231728587       ks:0.8626068463457175\n"
     ]
    }
   ],
   "source": [
    "#from sklearn.metrics import roc_auc_score\n",
    "from sklearn import metrics\n",
    "auc=roc_auc_score(flt.predict(test_x),test_y)\n",
    "fpr,tpr,thre=metrics.roc_curve(flt.predict(test_x),test_y)\n",
    "ks=max(tpr-fpr)\n",
    "print(\"auc:{}       ks:{}\".format(auc,ks))"
   ]
  },
  {
   "cell_type": "markdown",
   "metadata": {
    "ExecuteTime": {
     "end_time": "2020-12-07T18:27:05.506571Z",
     "start_time": "2020-12-07T18:27:05.502589Z"
    }
   },
   "source": [
    "## 解决过拟合问题"
   ]
  },
  {
   "cell_type": "code",
   "execution_count": 71,
   "metadata": {
    "ExecuteTime": {
     "end_time": "2020-12-08T14:35:57.691487Z",
     "start_time": "2020-12-08T14:35:57.649599Z"
    }
   },
   "outputs": [],
   "source": [
    "#删除疑似信息泄露特征\n",
    "df_drop=data_x[['out_prncp']]\n",
    "data_x=data_x.drop(df_drop,axis=1)\n",
    "df_drop=test_x[['out_prncp']]\n",
    "test_x=test_x.drop(df_drop,axis=1)"
   ]
  },
  {
   "cell_type": "code",
   "execution_count": 72,
   "metadata": {
    "ExecuteTime": {
     "end_time": "2020-12-08T14:35:57.696474Z",
     "start_time": "2020-12-08T14:35:57.692484Z"
    }
   },
   "outputs": [
    {
     "data": {
      "text/plain": [
       "Index(['term', 'installment', 'sub_grade', 'annual_inc', 'dti', 'revol_util',\n",
       "       'initial_list_status', 'total_rec_prncp', 'total_rec_int',\n",
       "       'last_pymnt_amnt', 'total_rev_hi_lim', 'installment_feat', 'cre_hist'],\n",
       "      dtype='object')"
      ]
     },
     "execution_count": 72,
     "metadata": {},
     "output_type": "execute_result"
    }
   ],
   "source": [
    "data_x.columns"
   ]
  },
  {
   "cell_type": "code",
   "execution_count": 73,
   "metadata": {
    "ExecuteTime": {
     "end_time": "2020-12-08T14:36:02.340056Z",
     "start_time": "2020-12-08T14:35:57.697471Z"
    }
   },
   "outputs": [
    {
     "data": {
      "text/plain": [
       "LogisticRegression(C=0.01)"
      ]
     },
     "execution_count": 73,
     "metadata": {},
     "output_type": "execute_result"
    }
   ],
   "source": [
    "flt= LogisticRegression(penalty='l2',C=0.01)\n",
    "flt.fit(data_x,data_y)"
   ]
  },
  {
   "cell_type": "code",
   "execution_count": 74,
   "metadata": {
    "ExecuteTime": {
     "end_time": "2020-12-08T14:36:02.406878Z",
     "start_time": "2020-12-08T14:36:02.341054Z"
    }
   },
   "outputs": [
    {
     "name": "stdout",
     "output_type": "stream",
     "text": [
      "auc:0.8082085517848777       ks:0.6164171035697554\n"
     ]
    }
   ],
   "source": [
    "auc=roc_auc_score(flt.predict(test_x),test_y)\n",
    "fpr,tpr,thre=metrics.roc_curve(flt.predict(test_x),test_y)\n",
    "ks=max(tpr-fpr)\n",
    "print(\"auc:{}       ks:{}\".format(auc,ks))"
   ]
  },
  {
   "cell_type": "markdown",
   "metadata": {},
   "source": [
    "# 输出评分卡"
   ]
  },
  {
   "cell_type": "code",
   "execution_count": 75,
   "metadata": {
    "ExecuteTime": {
     "end_time": "2020-12-08T14:36:05.868347Z",
     "start_time": "2020-12-08T14:36:02.407875Z"
    }
   },
   "outputs": [],
   "source": [
    "woe_dict = {}\n",
    "#woe_list = []\n",
    "for i in data_x.columns:\n",
    "        woe_dict[i] = feature_woe_iv(x=df[i], y=df['loan_status_class'])\n",
    "        #woe_list.append(feature_woe_iv(x=df[i], y=df['loan_status_class']))"
   ]
  },
  {
   "cell_type": "code",
   "execution_count": 77,
   "metadata": {
    "ExecuteTime": {
     "end_time": "2020-12-08T14:48:30.086493Z",
     "start_time": "2020-12-08T14:48:30.060565Z"
    }
   },
   "outputs": [
    {
     "name": "stdout",
     "output_type": "stream",
     "text": [
      "{'term': {'scores': {Interval(1.0, 1.5, closed='left'): 1.0, Interval(1.5, 2.1, closed='left'): -1.0}}, 'installment': {'scores': {Interval(0.0, 1.5, closed='left'): -0.0, Interval(1.5, 2.5, closed='left'): 0.0, Interval(2.5, 3.5, closed='left'): -0.0, Interval(3.5, 4.5, closed='left'): 0.0, Interval(4.5, 5.5, closed='left'): -0.0, Interval(5.5, 6.1, closed='left'): 0.0}}, 'sub_grade': {'scores': {Interval(1.0, 3.5, closed='left'): -1.0, Interval(3.5, 6.5, closed='left'): -1.0, Interval(6.5, 10.5, closed='left'): -0.0, Interval(10.5, 14.5, closed='left'): -0.0, Interval(14.5, 23.5, closed='left'): 0.0, Interval(23.5, 35.1, closed='left'): 1.0}}, 'annual_inc': {'scores': {Interval(0.0, 1.5, closed='left'): 0.0, Interval(1.5, 2.5, closed='left'): 0.0, Interval(2.5, 3.5, closed='left'): -0.0, Interval(3.5, 4.5, closed='left'): -0.0, Interval(4.5, 5.5, closed='left'): -0.0, Interval(5.5, 6.1, closed='left'): -0.0}}, 'dti': {'scores': {Interval(0.0, 12.185, closed='left'): 0.0, Interval(12.185, 16.125, closed='left'): 0.0, Interval(16.125, 18.805, closed='left'): -0.0, Interval(18.805, 20.595, closed='left'): -0.0, Interval(20.595, 32.655, closed='left'): -0.0, Interval(32.655, 9999.1, closed='left'): 0.0}}, 'revol_util': {'scores': {Interval(0.0, 38.15, closed='left'): 0.0, Interval(38.15, 55.25, closed='left'): 0.0, Interval(55.25, 64.05, closed='left'): -0.0, Interval(64.05, 74.75, closed='left'): -0.0, Interval(74.75, 89.15, closed='left'): -0.0, Interval(89.15, 892.4, closed='left'): -0.0}}, 'initial_list_status': {'scores': {Interval(1.0, 1.5, closed='left'): -2.0, Interval(1.5, 2.1, closed='left'): 2.0}}, 'total_rec_prncp': {'scores': {Interval(0.0, 1.5, closed='left'): 3.0, Interval(1.5, 2.5, closed='left'): -1.0, Interval(2.5, 3.5, closed='left'): -4.0, Interval(3.5, 4.5, closed='left'): 1.0, Interval(4.5, 5.5, closed='left'): 11.0, Interval(5.5, 6.1, closed='left'): 24.0}}, 'total_rec_int': {'scores': {Interval(0.0, 1.5, closed='left'): -13.0, Interval(1.5, 2.5, closed='left'): -8.0, Interval(2.5, 3.5, closed='left'): -3.0, Interval(3.5, 4.5, closed='left'): 0.0, Interval(4.5, 5.5, closed='left'): 3.0, Interval(5.5, 6.1, closed='left'): 6.0}}, 'last_pymnt_amnt': {'scores': {Interval(0.0, 1.5, closed='left'): -7.0, Interval(1.5, 2.5, closed='left'): -2.0, Interval(2.5, 3.5, closed='left'): -5.0, Interval(3.5, 4.5, closed='left'): -3.0, Interval(4.5, 5.5, closed='left'): 55.0, Interval(5.5, 6.1, closed='left'): 81.0}}, 'total_rev_hi_lim': {'scores': {Interval(0.0, 1.5, closed='left'): -0.0, Interval(1.5, 2.5, closed='left'): -0.0, Interval(2.5, 3.5, closed='left'): -2.0, Interval(3.5, 4.5, closed='left'): 0.0, Interval(4.5, 5.5, closed='left'): 1.0, Interval(5.5, 6.1, closed='left'): 1.0}}, 'installment_feat': {'scores': {Interval(0.0, 1.5, closed='left'): -3.0, Interval(1.5, 2.5, closed='left'): -2.0, Interval(2.5, 3.5, closed='left'): -0.0, Interval(3.5, 4.5, closed='left'): 1.0, Interval(4.5, 5.5, closed='left'): 2.0, Interval(5.5, 6.1, closed='left'): 2.0}}, 'cre_hist': {'scores': {Interval(6.0, 97.5, closed='left'): -0.0, Interval(97.5, 165.5, closed='left'): -0.0, Interval(165.5, 179.5, closed='left'): -0.0, Interval(179.5, 231.5, closed='left'): 0.0, Interval(231.5, 301.5, closed='left'): 0.0, Interval(301.5, 864.1, closed='left'): 0.0}}}\n"
     ]
    }
   ],
   "source": [
    "#输出评分卡\n",
    "#假设比率为1/20 时 分值是500，比率每翻倍一次的20分\n",
    "B=20/np.log(2) \n",
    "A=500+B*np.log(1/20)\n",
    "basescore=round(A-B*flt.coef_[0][0],0) #基准分四舍五入取整\n",
    "scorecard={}\n",
    "for i,j in enumerate(data_x.columns):\n",
    "    woe=woe_dict[j]\n",
    "    interval=[]\n",
    "    scores=[]\n",
    "    for key,value in woe.items():\n",
    "        #score=round(-(value*flt.coef_[0][i+1]*B))\n",
    "        score=round(-(value*flt.coef_[0][i]*B))\n",
    "        scores.append(score)\n",
    "        interval.append(key)\n",
    "    data=(pd.DataFrame({\"interval\":interval,\"scores\":scores})).set_index(\"interval\").to_dict()\n",
    "    scorecard[j]=data\n",
    "\n",
    "print(scorecard)"
   ]
  },
  {
   "cell_type": "markdown",
   "metadata": {},
   "source": [
    "{'term': {'scores': {Interval(1.0, 1.5, closed='left'): 1.0, Interval(1.5, 2.1, closed='left'): -1.0}}, \n",
    "\n",
    "'sub_grade': {'scores': {Interval(1.0, 3.5, closed='left'): -1.0, Interval(3.5, 6.5, closed='left'): -1.0, Interval(6.5, 10.5, closed='left'): -0.0, Interval(10.5, 14.5, closed='left'): -0.0, Interval(14.5, 23.5, closed='left'): 0.0, Interval(23.5, 35.1, closed='left'): 1.0}}, \n",
    "\n",
    "'initial_list_status': {'scores': {Interval(1.0, 1.5, closed='left'): -2.0, Interval(1.5, 2.1, closed='left'): 2.0}}, \n",
    "\n",
    "'total_rec_prncp': {'scores': {Interval(0.0, 1.5, closed='left'): 3.0, Interval(1.5, 2.5, closed='left'): -1.0, Interval(2.5, 3.5, closed='left'): -4.0, Interval(3.5, 4.5, closed='left'): 1.0, Interval(4.5, 5.5, closed='left'): 11.0, Interval(5.5, 6.1, closed='left'): 24.0}},\n",
    "\n",
    "'total_rec_int': {'scores': {Interval(0.0, 1.5, closed='left'): -13.0, Interval(1.5, 2.5, closed='left'): -8.0, Interval(2.5, 3.5, closed='left'): -3.0, Interval(3.5, 4.5, closed='left'): 0.0, Interval(4.5, 5.5, closed='left'): 3.0, Interval(5.5, 6.1, closed='left'): 6.0}},\n",
    "\n",
    "'last_pymnt_amnt': {'scores': {Interval(0.0, 1.5, closed='left'): -7.0, Interval(1.5, 2.5, closed='left'): -2.0, Interval(2.5, 3.5, closed='left'): -5.0, Interval(3.5, 4.5, closed='left'): -3.0, Interval(4.5, 5.5, closed='left'): 55.0, Interval(5.5, 6.1, closed='left'): 81.0}},\n",
    "\n",
    "'total_rev_hi_lim': {'scores': {Interval(0.0, 1.5, closed='left'): -0.0, Interval(1.5, 2.5, closed='left'): -0.0, Interval(2.5, 3.5, closed='left'): -2.0, Interval(3.5, 4.5, closed='left'): 0.0, Interval(4.5, 5.5, closed='left'): 1.0, Interval(5.5, 6.1, closed='left'): 1.0}},\n",
    "\n",
    "'installment_feat': {'scores': {Interval(0.0, 1.5, closed='left'): -3.0, Interval(1.5, 2.5, closed='left'): -2.0, Interval(2.5, 3.5, closed='left'): -0.0, Interval(3.5, 4.5, closed='left'): 1.0, Interval(4.5, 5.5, closed='left'): 2.0, Interval(5.5, 6.1, closed='left'): 2.0}},"
   ]
  },
  {
   "cell_type": "code",
   "execution_count": null,
   "metadata": {},
   "outputs": [],
   "source": []
  }
 ],
 "metadata": {
  "kernelspec": {
   "display_name": "Python 3",
   "language": "python",
   "name": "python3"
  },
  "language_info": {
   "codemirror_mode": {
    "name": "ipython",
    "version": 3
   },
   "file_extension": ".py",
   "mimetype": "text/x-python",
   "name": "python",
   "nbconvert_exporter": "python",
   "pygments_lexer": "ipython3",
   "version": "3.7.6"
  },
  "toc": {
   "base_numbering": 1,
   "nav_menu": {},
   "number_sections": true,
   "sideBar": true,
   "skip_h1_title": false,
   "title_cell": "Table of Contents",
   "title_sidebar": "Contents",
   "toc_cell": false,
   "toc_position": {
    "height": "calc(100% - 180px)",
    "left": "10px",
    "top": "150px",
    "width": "236.797px"
   },
   "toc_section_display": true,
   "toc_window_display": true
  }
 },
 "nbformat": 4,
 "nbformat_minor": 4
}
